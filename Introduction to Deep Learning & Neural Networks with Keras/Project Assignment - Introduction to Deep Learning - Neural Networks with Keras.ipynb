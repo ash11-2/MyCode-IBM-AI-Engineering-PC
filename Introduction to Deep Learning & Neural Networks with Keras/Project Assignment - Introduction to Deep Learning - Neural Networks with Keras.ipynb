{
 "cells": [
  {
   "cell_type": "markdown",
   "metadata": {},
   "source": [
    "<div align=center><font size = 6>Build a Regression Model in Keras</font></dev>"
   ]
  },
  {
   "cell_type": "markdown",
   "metadata": {},
   "source": [
    "Let's start by importing the libraries, such as, os, pandas, numpy, scikit_learn, etc."
   ]
  },
  {
   "cell_type": "code",
   "execution_count": 35,
   "metadata": {
    "ExecuteTime": {
     "end_time": "2019-12-21T22:01:09.989569Z",
     "start_time": "2019-12-21T22:01:09.985767Z"
    }
   },
   "outputs": [],
   "source": [
    "import time\n",
    "import os\n",
    "import pandas as pd\n",
    "import numpy as np\n",
    "\n",
    "from sklearn.metrics import mean_squared_error\n",
    "from sklearn.model_selection import train_test_split\n",
    "\n",
    "from keras.models import Sequential\n",
    "from keras.layers import Dense"
   ]
  },
  {
   "cell_type": "code",
   "execution_count": 2,
   "metadata": {
    "ExecuteTime": {
     "end_time": "2019-12-21T21:44:09.355295Z",
     "start_time": "2019-12-21T21:44:09.335718Z"
    }
   },
   "outputs": [],
   "source": [
    "COL_NAME_CEMENT = \"Cement\"\n",
    "COL_NAME_BLAST_FURNACE_SLAG = \"Blast Furnace Slag\"\n",
    "COL_NAME_FLY_ASH = \"Fly Ash\"\n",
    "COL_NAME_WATER = \"Water\"\n",
    "COL_NAME_SUPERPLASTICIZER = \"Superplasticizer\"\n",
    "COL_NAME_COARSE_AGGREGATE = \"Coarse Aggregate\"\n",
    "COL_NAME_FINE_AGGREGATE = \"Fine Aggregate\"\n",
    "COL_NAME_AGE = \"Age\"\n",
    "COL_NAME_STRENGTH = \"Strength\"\n",
    "\n",
    "COL_NAME_EXPERIMENT = \"Experiment\"\n",
    "COL_NAME_MSE = \"Mean MSE\"\n",
    "COL_NAME_RMSE = \"Std Deviation MSE\"\n",
    "\n",
    "# This dataframe contains three columns: \n",
    "# name_of_experiments, mse, rmse\n",
    "header_of_df_mse_and_rmse = [COL_NAME_EXPERIMENT, COL_NAME_MSE, COL_NAME_RMSE]\n",
    "df_mse_and_rmse = pd.DataFrame(columns=header_of_df_mse_and_rmse, data=[])\n",
    "\n",
    "\n",
    "def get_round(score, num_of_digits=2):\n",
    "    \"\"\"Get round with given number of decimal digits \n",
    "    \"\"\"\n",
    "    return round(score, num_of_digits)\n",
    "\n",
    "\n",
    "def get_mean(list_of_mse_scores):\n",
    "    \"\"\"Get mean\n",
    "    \"\"\"\n",
    "    if list_of_mse_scores:\n",
    "        return get_round(np.mean(list_of_mse_scores))\n",
    "    return None\n",
    "\n",
    "\n",
    "def get_standard_deviation(list_of_mse_scores):\n",
    "    \"\"\"Get standard deviation\n",
    "    \"\"\"\n",
    "    if list_of_mse_scores:\n",
    "        return get_round(np.std(list_of_mse_scores))\n",
    "    return None\n",
    "\n",
    "\n",
    "def build_model_with_one_hidden_layer(num_of_features=3):\n",
    "    \"\"\" Building baseline model that contains:\n",
    "\n",
    "    + One hidden layer of 10 nodes, and a ReLU activation function.\n",
    "    + Use the adam optimizer and the mean squared error as the loss function.\n",
    "    \"\"\"    \n",
    "    # Create model\n",
    "    model = Sequential()\n",
    "\n",
    "    model.add(Dense(10, activation=\"relu\", input_shape=(num_of_features,)))\n",
    "    model.add(Dense(1))\n",
    "\n",
    "    # Compile model\n",
    "    model.compile(optimizer='adam', loss='mean_squared_error')\n",
    "    return model\n",
    "\n",
    "\n",
    "def build_model_with_three_hidden_layers(num_of_features=3):\n",
    "    \"\"\" Building model that contains:\n",
    "    \n",
    "    + Three hidden layers, each of 10 nodes and ReLU activation function.    \n",
    "    + Use the adam optimizer and the mean squared error as the loss function.\n",
    "    \"\"\"\n",
    "    \n",
    "    # Create model\n",
    "    model = Sequential()\n",
    "\n",
    "    model.add(Dense(10, activation=\"relu\", input_shape=(num_of_features,)))\n",
    "    model.add(Dense(10, activation=\"relu\"))\n",
    "    model.add(Dense(10, activation=\"relu\"))\n",
    "    model.add(Dense(1))\n",
    "\n",
    "    # Compile model\n",
    "    model.compile(optimizer='adam', loss='mean_squared_error')\n",
    "    return model\n",
    "\n",
    "\n",
    "def get_mean_squared_error(compiled_model, X, y, epochs=50, verbose=1):\n",
    "    \"\"\"Get report (dataframe) of two metrics: \n",
    "    The mean and the standard deviation of the mean squared errors\n",
    "    \"\"\"   \n",
    "    \n",
    "    # 1. Randomly split the data into a training and test sets by holding 30% \n",
    "    # of the data for testing. You can use the train_test_split helper function \n",
    "    # from Scikit-learn.    \n",
    "    X_train, X_test, y_train, y_test = train_test_split(X, y, test_size=0.3, random_state=24)   \n",
    "    print(\"Training set: \", X_train.shape, y_train.shape)\n",
    "    print(\"Testing set: \", X_test.shape, y_test.shape)\n",
    "    \n",
    "    \n",
    "    # 2. Train the model on the training data using 50 epochs.\n",
    "    # Note that: given model which is compiled\n",
    "    # Fit the built model with training set\n",
    "    model.fit(X_train, y_train, epochs=epochs, verbose=verbose)    \n",
    "\n",
    "    # 3. Evaluate the model on the test data and compute the mean squared error \n",
    "    # between the predicted concrete strength and the actual concrete strength. \n",
    "    # You can use the mean_squared_error function from Scikit-learn.    \n",
    "    y_hat = model.predict(X_test)    \n",
    "    mse = mean_squared_error(y_test, y_hat)\n",
    "    \n",
    "    # Return the mean squared error\n",
    "    return mse\n",
    "\n",
    "\n",
    "def get_mean_and_std_of_mse(df_X, \n",
    "                            df_y, \n",
    "                            compiled_model,                \n",
    "                            max_iteration=50, \n",
    "                            epochs=50, \n",
    "                            verbose=0):\n",
    "    \"\"\"Generate the mean and the standard deviation of the mean squared errors \n",
    "    \"\"\"\n",
    "    # Repeat steps 1 - 3, 50 times, i.e., create a list of 50 mean squared errors.    \n",
    "    list_of_mean_squared_errors = []\n",
    "    for i in range(max_iteration):\n",
    "        start_time = time.time()\n",
    "        print(\"-\" * 36)\n",
    "        print(\"Processing current number of iteration : {}\".format(i+1))        \n",
    "        mse = get_mean_squared_error(compiled_model, df_X, df_y, epochs=epochs, verbose=verbose)\n",
    "        list_of_mean_squared_errors.append(mse)\n",
    "        print(\"Duration (seconds): {}\".format(time.time()-start_time))\n",
    "    # end for\n",
    "\n",
    "    print(\"Finished - {} times.\\nAnd the list of mean squared errors : {}\".format(max_iteration,\n",
    "                                                                                  list_of_mean_squared_errors))\n",
    "    mean_mse = get_mean(list_of_mean_squared_errors)\n",
    "    std_mse = get_standard_deviation(list_of_mean_squared_errors)\n",
    "\n",
    "    print(\"-\" * 72)\n",
    "    print(\"The mean and the standard deviation of the mean squared errors are: {} and {}, respectively\".format(\n",
    "           mean_mse, std_mse))\n",
    "    \n",
    "    return mean_mse, std_mse\n",
    "\n",
    "\n",
    "def get_report(name_of_experiment, mean_mse, std_mse):\n",
    "    \"\"\"Get report (dataframe) of two metrics: \n",
    "    The mean and the standard deviation of the mean squared errors\n",
    "    \"\"\"\n",
    "    values = [[name_of_experiment, mean_mse, std_mse]]\n",
    "\n",
    "    return pd.DataFrame(columns=header_of_df_mse_and_rmse, data=values)\n",
    "    "
   ]
  },
  {
   "cell_type": "markdown",
   "metadata": {},
   "source": [
    "# Loading input corpus"
   ]
  },
  {
   "cell_type": "markdown",
   "metadata": {},
   "source": [
    "Let's assign the path of input corpus. Because we re-use after dowloading the input corpus."
   ]
  },
  {
   "cell_type": "code",
   "execution_count": 3,
   "metadata": {
    "ExecuteTime": {
     "end_time": "2019-12-21T21:44:09.378149Z",
     "start_time": "2019-12-21T21:44:09.357970Z"
    }
   },
   "outputs": [],
   "source": [
    "file_input_path = \"concrete_data.csv\""
   ]
  },
  {
   "cell_type": "markdown",
   "metadata": {},
   "source": [
    "Let's read input data into a dataframe"
   ]
  },
  {
   "cell_type": "code",
   "execution_count": 4,
   "metadata": {
    "ExecuteTime": {
     "end_time": "2019-12-21T21:44:09.399227Z",
     "start_time": "2019-12-21T21:44:09.380165Z"
    }
   },
   "outputs": [
    {
     "name": "stdout",
     "output_type": "stream",
     "text": [
      "We will load the data from file 'concrete_data.csv' to dataframe.\n"
     ]
    }
   ],
   "source": [
    "if os.path.exists(file_input_path):\n",
    "    print(\"We will load the data from file '{}' to dataframe.\".format(file_input_path))\n",
    "    df = pd.read_csv(file_input_path, header=0)\n",
    "else:\n",
    "    print(\"File not found : {}\".format(file_input_path))\n",
    "    df = pd.read_csv('https://s3-api.us-geo.objectstorage.softlayer.net/cf-courses-data/CognitiveClass/DL0101EN/labs/data/concrete_data.csv')"
   ]
  },
  {
   "cell_type": "markdown",
   "metadata": {},
   "source": [
    "# Reviewing the loaded data"
   ]
  },
  {
   "cell_type": "code",
   "execution_count": 5,
   "metadata": {
    "ExecuteTime": {
     "end_time": "2019-12-21T21:44:09.420320Z",
     "start_time": "2019-12-21T21:44:09.400667Z"
    }
   },
   "outputs": [
    {
     "data": {
      "text/plain": [
       "Index(['Cement', 'Blast Furnace Slag', 'Fly Ash', 'Water', 'Superplasticizer',\n",
       "       'Coarse Aggregate', 'Fine Aggregate', 'Age', 'Strength'],\n",
       "      dtype='object')"
      ]
     },
     "execution_count": 5,
     "metadata": {},
     "output_type": "execute_result"
    }
   ],
   "source": [
    "df.columns"
   ]
  },
  {
   "cell_type": "code",
   "execution_count": 6,
   "metadata": {
    "ExecuteTime": {
     "end_time": "2019-12-21T21:44:09.475281Z",
     "start_time": "2019-12-21T21:44:09.421814Z"
    }
   },
   "outputs": [
    {
     "data": {
      "text/html": [
       "<div>\n",
       "<style scoped>\n",
       "    .dataframe tbody tr th:only-of-type {\n",
       "        vertical-align: middle;\n",
       "    }\n",
       "\n",
       "    .dataframe tbody tr th {\n",
       "        vertical-align: top;\n",
       "    }\n",
       "\n",
       "    .dataframe thead th {\n",
       "        text-align: right;\n",
       "    }\n",
       "</style>\n",
       "<table border=\"1\" class=\"dataframe\">\n",
       "  <thead>\n",
       "    <tr style=\"text-align: right;\">\n",
       "      <th></th>\n",
       "      <th>Cement</th>\n",
       "      <th>Blast Furnace Slag</th>\n",
       "      <th>Fly Ash</th>\n",
       "      <th>Water</th>\n",
       "      <th>Superplasticizer</th>\n",
       "      <th>Coarse Aggregate</th>\n",
       "      <th>Fine Aggregate</th>\n",
       "      <th>Age</th>\n",
       "      <th>Strength</th>\n",
       "    </tr>\n",
       "  </thead>\n",
       "  <tbody>\n",
       "    <tr>\n",
       "      <td>count</td>\n",
       "      <td>1030.000000</td>\n",
       "      <td>1030.000000</td>\n",
       "      <td>1030.000000</td>\n",
       "      <td>1030.000000</td>\n",
       "      <td>1030.000000</td>\n",
       "      <td>1030.000000</td>\n",
       "      <td>1030.000000</td>\n",
       "      <td>1030.000000</td>\n",
       "      <td>1030.000000</td>\n",
       "    </tr>\n",
       "    <tr>\n",
       "      <td>mean</td>\n",
       "      <td>281.167864</td>\n",
       "      <td>73.895825</td>\n",
       "      <td>54.188350</td>\n",
       "      <td>181.567282</td>\n",
       "      <td>6.204660</td>\n",
       "      <td>972.918932</td>\n",
       "      <td>773.580485</td>\n",
       "      <td>45.662136</td>\n",
       "      <td>35.817961</td>\n",
       "    </tr>\n",
       "    <tr>\n",
       "      <td>std</td>\n",
       "      <td>104.506364</td>\n",
       "      <td>86.279342</td>\n",
       "      <td>63.997004</td>\n",
       "      <td>21.354219</td>\n",
       "      <td>5.973841</td>\n",
       "      <td>77.753954</td>\n",
       "      <td>80.175980</td>\n",
       "      <td>63.169912</td>\n",
       "      <td>16.705742</td>\n",
       "    </tr>\n",
       "    <tr>\n",
       "      <td>min</td>\n",
       "      <td>102.000000</td>\n",
       "      <td>0.000000</td>\n",
       "      <td>0.000000</td>\n",
       "      <td>121.800000</td>\n",
       "      <td>0.000000</td>\n",
       "      <td>801.000000</td>\n",
       "      <td>594.000000</td>\n",
       "      <td>1.000000</td>\n",
       "      <td>2.330000</td>\n",
       "    </tr>\n",
       "    <tr>\n",
       "      <td>25%</td>\n",
       "      <td>192.375000</td>\n",
       "      <td>0.000000</td>\n",
       "      <td>0.000000</td>\n",
       "      <td>164.900000</td>\n",
       "      <td>0.000000</td>\n",
       "      <td>932.000000</td>\n",
       "      <td>730.950000</td>\n",
       "      <td>7.000000</td>\n",
       "      <td>23.710000</td>\n",
       "    </tr>\n",
       "    <tr>\n",
       "      <td>50%</td>\n",
       "      <td>272.900000</td>\n",
       "      <td>22.000000</td>\n",
       "      <td>0.000000</td>\n",
       "      <td>185.000000</td>\n",
       "      <td>6.400000</td>\n",
       "      <td>968.000000</td>\n",
       "      <td>779.500000</td>\n",
       "      <td>28.000000</td>\n",
       "      <td>34.445000</td>\n",
       "    </tr>\n",
       "    <tr>\n",
       "      <td>75%</td>\n",
       "      <td>350.000000</td>\n",
       "      <td>142.950000</td>\n",
       "      <td>118.300000</td>\n",
       "      <td>192.000000</td>\n",
       "      <td>10.200000</td>\n",
       "      <td>1029.400000</td>\n",
       "      <td>824.000000</td>\n",
       "      <td>56.000000</td>\n",
       "      <td>46.135000</td>\n",
       "    </tr>\n",
       "    <tr>\n",
       "      <td>max</td>\n",
       "      <td>540.000000</td>\n",
       "      <td>359.400000</td>\n",
       "      <td>200.100000</td>\n",
       "      <td>247.000000</td>\n",
       "      <td>32.200000</td>\n",
       "      <td>1145.000000</td>\n",
       "      <td>992.600000</td>\n",
       "      <td>365.000000</td>\n",
       "      <td>82.600000</td>\n",
       "    </tr>\n",
       "  </tbody>\n",
       "</table>\n",
       "</div>"
      ],
      "text/plain": [
       "            Cement  Blast Furnace Slag      Fly Ash        Water  \\\n",
       "count  1030.000000         1030.000000  1030.000000  1030.000000   \n",
       "mean    281.167864           73.895825    54.188350   181.567282   \n",
       "std     104.506364           86.279342    63.997004    21.354219   \n",
       "min     102.000000            0.000000     0.000000   121.800000   \n",
       "25%     192.375000            0.000000     0.000000   164.900000   \n",
       "50%     272.900000           22.000000     0.000000   185.000000   \n",
       "75%     350.000000          142.950000   118.300000   192.000000   \n",
       "max     540.000000          359.400000   200.100000   247.000000   \n",
       "\n",
       "       Superplasticizer  Coarse Aggregate  Fine Aggregate          Age  \\\n",
       "count       1030.000000       1030.000000     1030.000000  1030.000000   \n",
       "mean           6.204660        972.918932      773.580485    45.662136   \n",
       "std            5.973841         77.753954       80.175980    63.169912   \n",
       "min            0.000000        801.000000      594.000000     1.000000   \n",
       "25%            0.000000        932.000000      730.950000     7.000000   \n",
       "50%            6.400000        968.000000      779.500000    28.000000   \n",
       "75%           10.200000       1029.400000      824.000000    56.000000   \n",
       "max           32.200000       1145.000000      992.600000   365.000000   \n",
       "\n",
       "          Strength  \n",
       "count  1030.000000  \n",
       "mean     35.817961  \n",
       "std      16.705742  \n",
       "min       2.330000  \n",
       "25%      23.710000  \n",
       "50%      34.445000  \n",
       "75%      46.135000  \n",
       "max      82.600000  "
      ]
     },
     "execution_count": 6,
     "metadata": {},
     "output_type": "execute_result"
    }
   ],
   "source": [
    "df.describe()"
   ]
  },
  {
   "cell_type": "code",
   "execution_count": 7,
   "metadata": {
    "ExecuteTime": {
     "end_time": "2019-12-21T21:44:09.482710Z",
     "start_time": "2019-12-21T21:44:09.476780Z"
    }
   },
   "outputs": [
    {
     "name": "stdout",
     "output_type": "stream",
     "text": [
      "<class 'pandas.core.frame.DataFrame'>\n",
      "RangeIndex: 1030 entries, 0 to 1029\n",
      "Data columns (total 9 columns):\n",
      "Cement                1030 non-null float64\n",
      "Blast Furnace Slag    1030 non-null float64\n",
      "Fly Ash               1030 non-null float64\n",
      "Water                 1030 non-null float64\n",
      "Superplasticizer      1030 non-null float64\n",
      "Coarse Aggregate      1030 non-null float64\n",
      "Fine Aggregate        1030 non-null float64\n",
      "Age                   1030 non-null int64\n",
      "Strength              1030 non-null float64\n",
      "dtypes: float64(8), int64(1)\n",
      "memory usage: 72.5 KB\n"
     ]
    }
   ],
   "source": [
    "df.info()"
   ]
  },
  {
   "cell_type": "code",
   "execution_count": 8,
   "metadata": {
    "ExecuteTime": {
     "end_time": "2019-12-21T21:44:09.507564Z",
     "start_time": "2019-12-21T21:44:09.484801Z"
    }
   },
   "outputs": [
    {
     "data": {
      "text/html": [
       "<div>\n",
       "<style scoped>\n",
       "    .dataframe tbody tr th:only-of-type {\n",
       "        vertical-align: middle;\n",
       "    }\n",
       "\n",
       "    .dataframe tbody tr th {\n",
       "        vertical-align: top;\n",
       "    }\n",
       "\n",
       "    .dataframe thead th {\n",
       "        text-align: right;\n",
       "    }\n",
       "</style>\n",
       "<table border=\"1\" class=\"dataframe\">\n",
       "  <thead>\n",
       "    <tr style=\"text-align: right;\">\n",
       "      <th></th>\n",
       "      <th>Cement</th>\n",
       "      <th>Blast Furnace Slag</th>\n",
       "      <th>Fly Ash</th>\n",
       "      <th>Water</th>\n",
       "      <th>Superplasticizer</th>\n",
       "      <th>Coarse Aggregate</th>\n",
       "      <th>Fine Aggregate</th>\n",
       "      <th>Age</th>\n",
       "      <th>Strength</th>\n",
       "    </tr>\n",
       "  </thead>\n",
       "  <tbody>\n",
       "    <tr>\n",
       "      <td>0</td>\n",
       "      <td>540.0</td>\n",
       "      <td>0.0</td>\n",
       "      <td>0.0</td>\n",
       "      <td>162.0</td>\n",
       "      <td>2.5</td>\n",
       "      <td>1040.0</td>\n",
       "      <td>676.0</td>\n",
       "      <td>28</td>\n",
       "      <td>79.99</td>\n",
       "    </tr>\n",
       "    <tr>\n",
       "      <td>1</td>\n",
       "      <td>540.0</td>\n",
       "      <td>0.0</td>\n",
       "      <td>0.0</td>\n",
       "      <td>162.0</td>\n",
       "      <td>2.5</td>\n",
       "      <td>1055.0</td>\n",
       "      <td>676.0</td>\n",
       "      <td>28</td>\n",
       "      <td>61.89</td>\n",
       "    </tr>\n",
       "    <tr>\n",
       "      <td>2</td>\n",
       "      <td>332.5</td>\n",
       "      <td>142.5</td>\n",
       "      <td>0.0</td>\n",
       "      <td>228.0</td>\n",
       "      <td>0.0</td>\n",
       "      <td>932.0</td>\n",
       "      <td>594.0</td>\n",
       "      <td>270</td>\n",
       "      <td>40.27</td>\n",
       "    </tr>\n",
       "  </tbody>\n",
       "</table>\n",
       "</div>"
      ],
      "text/plain": [
       "   Cement  Blast Furnace Slag  Fly Ash  Water  Superplasticizer  \\\n",
       "0   540.0                 0.0      0.0  162.0               2.5   \n",
       "1   540.0                 0.0      0.0  162.0               2.5   \n",
       "2   332.5               142.5      0.0  228.0               0.0   \n",
       "\n",
       "   Coarse Aggregate  Fine Aggregate  Age  Strength  \n",
       "0            1040.0           676.0   28     79.99  \n",
       "1            1055.0           676.0   28     61.89  \n",
       "2             932.0           594.0  270     40.27  "
      ]
     },
     "execution_count": 8,
     "metadata": {},
     "output_type": "execute_result"
    }
   ],
   "source": [
    "df.head(3)"
   ]
  },
  {
   "cell_type": "markdown",
   "metadata": {},
   "source": [
    "So the first concrete sample has \"540\" cubic meter of cement, \"0\" cubic meter of blast furnace slag, \"0\" cubic meter of fly ash, \"162\" cubic meter of water, \"2.5\" cubic meter of superplaticizer, \"1040\" cubic meter of coarse aggregate, \"676\" cubic meter of fine aggregate. Such a concrete mix which is \"28\" days old, has a compressive strength of \"79.99\" MPa. "
   ]
  },
  {
   "cell_type": "code",
   "execution_count": 9,
   "metadata": {
    "ExecuteTime": {
     "end_time": "2019-12-21T21:44:09.525646Z",
     "start_time": "2019-12-21T21:44:09.509485Z"
    }
   },
   "outputs": [
    {
     "name": "stdout",
     "output_type": "stream",
     "text": [
      "(row, column) = (1030, 9)\n"
     ]
    }
   ],
   "source": [
    "print(\"(row, column) = {}\".format(df.shape))"
   ]
  },
  {
   "cell_type": "markdown",
   "metadata": {},
   "source": [
    "So, there are approximately 1000 samples to train our model on when splitting with 30% for the data of testing."
   ]
  },
  {
   "cell_type": "markdown",
   "metadata": {},
   "source": [
    "Let's check the data for any missing value"
   ]
  },
  {
   "cell_type": "code",
   "execution_count": 10,
   "metadata": {
    "ExecuteTime": {
     "end_time": "2019-12-21T21:44:09.543906Z",
     "start_time": "2019-12-21T21:44:09.527164Z"
    }
   },
   "outputs": [
    {
     "data": {
      "text/plain": [
       "Cement                0\n",
       "Blast Furnace Slag    0\n",
       "Fly Ash               0\n",
       "Water                 0\n",
       "Superplasticizer      0\n",
       "Coarse Aggregate      0\n",
       "Fine Aggregate        0\n",
       "Age                   0\n",
       "Strength              0\n",
       "dtype: int64"
      ]
     },
     "execution_count": 10,
     "metadata": {},
     "output_type": "execute_result"
    }
   ],
   "source": [
    "df.isnull().sum()"
   ]
  },
  {
   "cell_type": "markdown",
   "metadata": {},
   "source": [
    "As you see, the above input corpus look pretty good to train the model. However, we could use the normalization technique to normalize it. "
   ]
  },
  {
   "cell_type": "markdown",
   "metadata": {},
   "source": [
    "# Normalizing input data"
   ]
  },
  {
   "cell_type": "code",
   "execution_count": 11,
   "metadata": {
    "ExecuteTime": {
     "end_time": "2019-12-21T21:44:09.556767Z",
     "start_time": "2019-12-21T21:44:09.545440Z"
    }
   },
   "outputs": [
    {
     "data": {
      "text/plain": [
       "Index(['Cement', 'Blast Furnace Slag', 'Fly Ash', 'Water', 'Superplasticizer',\n",
       "       'Coarse Aggregate', 'Fine Aggregate', 'Age', 'Strength'],\n",
       "      dtype='object')"
      ]
     },
     "execution_count": 11,
     "metadata": {},
     "output_type": "execute_result"
    }
   ],
   "source": [
    "list_of_column_names = df.columns\n",
    "list_of_column_names"
   ]
  },
  {
   "cell_type": "markdown",
   "metadata": {},
   "source": [
    "## Splitting into predictors and target"
   ]
  },
  {
   "cell_type": "markdown",
   "metadata": {},
   "source": [
    "Filtering the list of column names of dataframe predictors"
   ]
  },
  {
   "cell_type": "code",
   "execution_count": 12,
   "metadata": {
    "ExecuteTime": {
     "end_time": "2019-12-21T21:44:09.572053Z",
     "start_time": "2019-12-21T21:44:09.558214Z"
    }
   },
   "outputs": [],
   "source": [
    "list_of_col_names_predictors = [x for x in list_of_column_names \n",
    "                                if x != COL_NAME_STRENGTH]"
   ]
  },
  {
   "cell_type": "code",
   "execution_count": 13,
   "metadata": {
    "ExecuteTime": {
     "end_time": "2019-12-21T21:44:09.588690Z",
     "start_time": "2019-12-21T21:44:09.573671Z"
    }
   },
   "outputs": [
    {
     "data": {
      "text/plain": [
       "['Cement',\n",
       " 'Blast Furnace Slag',\n",
       " 'Fly Ash',\n",
       " 'Water',\n",
       " 'Superplasticizer',\n",
       " 'Coarse Aggregate',\n",
       " 'Fine Aggregate',\n",
       " 'Age']"
      ]
     },
     "execution_count": 13,
     "metadata": {},
     "output_type": "execute_result"
    }
   ],
   "source": [
    "list_of_col_names_predictors"
   ]
  },
  {
   "cell_type": "code",
   "execution_count": 14,
   "metadata": {
    "ExecuteTime": {
     "end_time": "2019-12-21T21:44:09.605001Z",
     "start_time": "2019-12-21T21:44:09.590199Z"
    }
   },
   "outputs": [],
   "source": [
    "df_predictors = df[list_of_col_names_predictors]"
   ]
  },
  {
   "cell_type": "code",
   "execution_count": 15,
   "metadata": {
    "ExecuteTime": {
     "end_time": "2019-12-21T21:44:09.621355Z",
     "start_time": "2019-12-21T21:44:09.606315Z"
    }
   },
   "outputs": [],
   "source": [
    "df_target = df[[COL_NAME_STRENGTH]]"
   ]
  },
  {
   "cell_type": "markdown",
   "metadata": {},
   "source": [
    "Reviewing the data in two dataframes: predictors and target"
   ]
  },
  {
   "cell_type": "code",
   "execution_count": 16,
   "metadata": {
    "ExecuteTime": {
     "end_time": "2019-12-21T21:44:09.645004Z",
     "start_time": "2019-12-21T21:44:09.623055Z"
    }
   },
   "outputs": [
    {
     "data": {
      "text/html": [
       "<div>\n",
       "<style scoped>\n",
       "    .dataframe tbody tr th:only-of-type {\n",
       "        vertical-align: middle;\n",
       "    }\n",
       "\n",
       "    .dataframe tbody tr th {\n",
       "        vertical-align: top;\n",
       "    }\n",
       "\n",
       "    .dataframe thead th {\n",
       "        text-align: right;\n",
       "    }\n",
       "</style>\n",
       "<table border=\"1\" class=\"dataframe\">\n",
       "  <thead>\n",
       "    <tr style=\"text-align: right;\">\n",
       "      <th></th>\n",
       "      <th>Cement</th>\n",
       "      <th>Blast Furnace Slag</th>\n",
       "      <th>Fly Ash</th>\n",
       "      <th>Water</th>\n",
       "      <th>Superplasticizer</th>\n",
       "      <th>Coarse Aggregate</th>\n",
       "      <th>Fine Aggregate</th>\n",
       "      <th>Age</th>\n",
       "    </tr>\n",
       "  </thead>\n",
       "  <tbody>\n",
       "    <tr>\n",
       "      <td>0</td>\n",
       "      <td>540.0</td>\n",
       "      <td>0.0</td>\n",
       "      <td>0.0</td>\n",
       "      <td>162.0</td>\n",
       "      <td>2.5</td>\n",
       "      <td>1040.0</td>\n",
       "      <td>676.0</td>\n",
       "      <td>28</td>\n",
       "    </tr>\n",
       "    <tr>\n",
       "      <td>1</td>\n",
       "      <td>540.0</td>\n",
       "      <td>0.0</td>\n",
       "      <td>0.0</td>\n",
       "      <td>162.0</td>\n",
       "      <td>2.5</td>\n",
       "      <td>1055.0</td>\n",
       "      <td>676.0</td>\n",
       "      <td>28</td>\n",
       "    </tr>\n",
       "    <tr>\n",
       "      <td>2</td>\n",
       "      <td>332.5</td>\n",
       "      <td>142.5</td>\n",
       "      <td>0.0</td>\n",
       "      <td>228.0</td>\n",
       "      <td>0.0</td>\n",
       "      <td>932.0</td>\n",
       "      <td>594.0</td>\n",
       "      <td>270</td>\n",
       "    </tr>\n",
       "  </tbody>\n",
       "</table>\n",
       "</div>"
      ],
      "text/plain": [
       "   Cement  Blast Furnace Slag  Fly Ash  Water  Superplasticizer  \\\n",
       "0   540.0                 0.0      0.0  162.0               2.5   \n",
       "1   540.0                 0.0      0.0  162.0               2.5   \n",
       "2   332.5               142.5      0.0  228.0               0.0   \n",
       "\n",
       "   Coarse Aggregate  Fine Aggregate  Age  \n",
       "0            1040.0           676.0   28  \n",
       "1            1055.0           676.0   28  \n",
       "2             932.0           594.0  270  "
      ]
     },
     "execution_count": 16,
     "metadata": {},
     "output_type": "execute_result"
    }
   ],
   "source": [
    "df_predictors.head(3)"
   ]
  },
  {
   "cell_type": "code",
   "execution_count": 17,
   "metadata": {
    "ExecuteTime": {
     "end_time": "2019-12-21T21:44:09.665464Z",
     "start_time": "2019-12-21T21:44:09.647126Z"
    },
    "scrolled": false
   },
   "outputs": [
    {
     "data": {
      "text/html": [
       "<div>\n",
       "<style scoped>\n",
       "    .dataframe tbody tr th:only-of-type {\n",
       "        vertical-align: middle;\n",
       "    }\n",
       "\n",
       "    .dataframe tbody tr th {\n",
       "        vertical-align: top;\n",
       "    }\n",
       "\n",
       "    .dataframe thead th {\n",
       "        text-align: right;\n",
       "    }\n",
       "</style>\n",
       "<table border=\"1\" class=\"dataframe\">\n",
       "  <thead>\n",
       "    <tr style=\"text-align: right;\">\n",
       "      <th></th>\n",
       "      <th>Strength</th>\n",
       "    </tr>\n",
       "  </thead>\n",
       "  <tbody>\n",
       "    <tr>\n",
       "      <td>0</td>\n",
       "      <td>79.99</td>\n",
       "    </tr>\n",
       "    <tr>\n",
       "      <td>1</td>\n",
       "      <td>61.89</td>\n",
       "    </tr>\n",
       "    <tr>\n",
       "      <td>2</td>\n",
       "      <td>40.27</td>\n",
       "    </tr>\n",
       "  </tbody>\n",
       "</table>\n",
       "</div>"
      ],
      "text/plain": [
       "   Strength\n",
       "0     79.99\n",
       "1     61.89\n",
       "2     40.27"
      ]
     },
     "execution_count": 17,
     "metadata": {},
     "output_type": "execute_result"
    }
   ],
   "source": [
    "df_target.head(3)"
   ]
  },
  {
   "cell_type": "markdown",
   "metadata": {},
   "source": [
    "## Applying normalization method\n",
    "\n",
    "Recall that one way to normalize the data is by subtracting the mean from the individual predictors and dividing by the standard deviation."
   ]
  },
  {
   "cell_type": "code",
   "execution_count": 18,
   "metadata": {
    "ExecuteTime": {
     "end_time": "2019-12-21T21:44:09.690485Z",
     "start_time": "2019-12-21T21:44:09.667038Z"
    }
   },
   "outputs": [],
   "source": [
    "df_predictors_norm = (df_predictors - df_predictors.mean())/df_predictors.std()"
   ]
  },
  {
   "cell_type": "code",
   "execution_count": 19,
   "metadata": {
    "ExecuteTime": {
     "end_time": "2019-12-21T21:44:09.701627Z",
     "start_time": "2019-12-21T21:44:09.691999Z"
    }
   },
   "outputs": [
    {
     "data": {
      "text/html": [
       "<div>\n",
       "<style scoped>\n",
       "    .dataframe tbody tr th:only-of-type {\n",
       "        vertical-align: middle;\n",
       "    }\n",
       "\n",
       "    .dataframe tbody tr th {\n",
       "        vertical-align: top;\n",
       "    }\n",
       "\n",
       "    .dataframe thead th {\n",
       "        text-align: right;\n",
       "    }\n",
       "</style>\n",
       "<table border=\"1\" class=\"dataframe\">\n",
       "  <thead>\n",
       "    <tr style=\"text-align: right;\">\n",
       "      <th></th>\n",
       "      <th>Cement</th>\n",
       "      <th>Blast Furnace Slag</th>\n",
       "      <th>Fly Ash</th>\n",
       "      <th>Water</th>\n",
       "      <th>Superplasticizer</th>\n",
       "      <th>Coarse Aggregate</th>\n",
       "      <th>Fine Aggregate</th>\n",
       "      <th>Age</th>\n",
       "    </tr>\n",
       "  </thead>\n",
       "  <tbody>\n",
       "    <tr>\n",
       "      <td>0</td>\n",
       "      <td>2.476712</td>\n",
       "      <td>-0.856472</td>\n",
       "      <td>-0.846733</td>\n",
       "      <td>-0.916319</td>\n",
       "      <td>-0.620147</td>\n",
       "      <td>0.862735</td>\n",
       "      <td>-1.217079</td>\n",
       "      <td>-0.279597</td>\n",
       "    </tr>\n",
       "    <tr>\n",
       "      <td>1</td>\n",
       "      <td>2.476712</td>\n",
       "      <td>-0.856472</td>\n",
       "      <td>-0.846733</td>\n",
       "      <td>-0.916319</td>\n",
       "      <td>-0.620147</td>\n",
       "      <td>1.055651</td>\n",
       "      <td>-1.217079</td>\n",
       "      <td>-0.279597</td>\n",
       "    </tr>\n",
       "    <tr>\n",
       "      <td>2</td>\n",
       "      <td>0.491187</td>\n",
       "      <td>0.795140</td>\n",
       "      <td>-0.846733</td>\n",
       "      <td>2.174405</td>\n",
       "      <td>-1.038638</td>\n",
       "      <td>-0.526262</td>\n",
       "      <td>-2.239829</td>\n",
       "      <td>3.551340</td>\n",
       "    </tr>\n",
       "  </tbody>\n",
       "</table>\n",
       "</div>"
      ],
      "text/plain": [
       "     Cement  Blast Furnace Slag   Fly Ash     Water  Superplasticizer  \\\n",
       "0  2.476712           -0.856472 -0.846733 -0.916319         -0.620147   \n",
       "1  2.476712           -0.856472 -0.846733 -0.916319         -0.620147   \n",
       "2  0.491187            0.795140 -0.846733  2.174405         -1.038638   \n",
       "\n",
       "   Coarse Aggregate  Fine Aggregate       Age  \n",
       "0          0.862735       -1.217079 -0.279597  \n",
       "1          1.055651       -1.217079 -0.279597  \n",
       "2         -0.526262       -2.239829  3.551340  "
      ]
     },
     "execution_count": 19,
     "metadata": {},
     "output_type": "execute_result"
    }
   ],
   "source": [
    "df_predictors_norm.head(3)"
   ]
  },
  {
   "cell_type": "markdown",
   "metadata": {},
   "source": [
    "# A - Experiment with a baseline model\n",
    "\n",
    "\n",
    "\n",
    "Use the Keras library to build a neural network with the following:\n",
    "\n",
    "   + One hidden layer of **10 nodes**, and a **ReLU activation function**\n",
    "   \n",
    "   + Use the **adam optimizer** and the **mean squared error as the loss function**.\n",
    "\n",
    "1. **Randomly split** the data into a training and test sets by holding **30% of the data for testing**. You can use the train_test_split helper function from Scikit-learn.\n",
    "\n",
    "2. Train the model on the training data using **50 epochs**.\n",
    "\n",
    "3. Evaluate the model on the test data and compute the mean squared error between the predicted concrete strength and the actual concrete strength. You can use the mean_squared_error function from Scikit-learn.\n",
    "\n",
    "4. Repeat steps 1 - 3, 50 times, i.e., create a list of 50 mean squared errors.\n",
    "\n",
    "5. Report the mean and the standard deviation of the mean squared errors."
   ]
  },
  {
   "cell_type": "markdown",
   "metadata": {},
   "source": [
    "## Building and Training with the baseline model"
   ]
  },
  {
   "cell_type": "code",
   "execution_count": null,
   "metadata": {
    "ExecuteTime": {
     "end_time": "2019-12-21T21:44:09.717645Z",
     "start_time": "2019-12-21T21:44:09.703008Z"
    }
   },
   "outputs": [
    {
     "name": "stdout",
     "output_type": "stream",
     "text": [
      "Number of features for input layer :  8\n"
     ]
    }
   ],
   "source": [
    "num_of_features = len(df.columns) - 1\n",
    "print(\"Number of features for input layer : \", num_of_features)"
   ]
  },
  {
   "cell_type": "code",
   "execution_count": null,
   "metadata": {
    "ExecuteTime": {
     "end_time": "2019-12-21T21:45:07.371106Z",
     "start_time": "2019-12-21T21:44:09.719096Z"
    },
    "scrolled": true
   },
   "outputs": [
    {
     "name": "stdout",
     "output_type": "stream",
     "text": [
      "------------------------------------\n",
      "Processing current number of iteration : 1\n",
      "Training set:  (721, 8) (721, 1)\n",
      "Testing set:  (309, 8) (309, 1)\n",
      "Duration (seconds): 1.316227674484253\n",
      "------------------------------------\n",
      "Processing current number of iteration : 2\n",
      "Training set:  (721, 8) (721, 1)\n",
      "Testing set:  (309, 8) (309, 1)\n",
      "Duration (seconds): 0.8112094402313232\n",
      "------------------------------------\n",
      "Processing current number of iteration : 3\n",
      "Training set:  (721, 8) (721, 1)\n",
      "Testing set:  (309, 8) (309, 1)\n",
      "Duration (seconds): 0.8576605319976807\n",
      "------------------------------------\n",
      "Processing current number of iteration : 4\n",
      "Training set:  (721, 8) (721, 1)\n",
      "Testing set:  (309, 8) (309, 1)\n",
      "Duration (seconds): 0.9971997737884521\n",
      "------------------------------------\n",
      "Processing current number of iteration : 5\n",
      "Training set:  (721, 8) (721, 1)\n",
      "Testing set:  (309, 8) (309, 1)\n",
      "Duration (seconds): 1.1121151447296143\n",
      "------------------------------------\n",
      "Processing current number of iteration : 6\n",
      "Training set:  (721, 8) (721, 1)\n",
      "Testing set:  (309, 8) (309, 1)\n",
      "Duration (seconds): 1.1624197959899902\n",
      "------------------------------------\n",
      "Processing current number of iteration : 7\n",
      "Training set:  (721, 8) (721, 1)\n",
      "Testing set:  (309, 8) (309, 1)\n",
      "Duration (seconds): 1.1883151531219482\n",
      "------------------------------------\n",
      "Processing current number of iteration : 8\n",
      "Training set:  (721, 8) (721, 1)\n",
      "Testing set:  (309, 8) (309, 1)\n",
      "Duration (seconds): 1.138612985610962\n",
      "------------------------------------\n",
      "Processing current number of iteration : 9\n",
      "Training set:  (721, 8) (721, 1)\n",
      "Testing set:  (309, 8) (309, 1)\n",
      "Duration (seconds): 1.1624267101287842\n",
      "------------------------------------\n",
      "Processing current number of iteration : 10\n",
      "Training set:  (721, 8) (721, 1)\n",
      "Testing set:  (309, 8) (309, 1)\n",
      "Duration (seconds): 1.1454248428344727\n",
      "------------------------------------\n",
      "Processing current number of iteration : 11\n",
      "Training set:  (721, 8) (721, 1)\n",
      "Testing set:  (309, 8) (309, 1)\n",
      "Duration (seconds): 1.168656349182129\n",
      "------------------------------------\n",
      "Processing current number of iteration : 12\n",
      "Training set:  (721, 8) (721, 1)\n",
      "Testing set:  (309, 8) (309, 1)\n",
      "Duration (seconds): 1.1486940383911133\n",
      "------------------------------------\n",
      "Processing current number of iteration : 13\n",
      "Training set:  (721, 8) (721, 1)\n",
      "Testing set:  (309, 8) (309, 1)\n",
      "Duration (seconds): 1.1430439949035645\n",
      "------------------------------------\n",
      "Processing current number of iteration : 14\n",
      "Training set:  (721, 8) (721, 1)\n",
      "Testing set:  (309, 8) (309, 1)\n",
      "Duration (seconds): 1.1774017810821533\n",
      "------------------------------------\n",
      "Processing current number of iteration : 15\n",
      "Training set:  (721, 8) (721, 1)\n",
      "Testing set:  (309, 8) (309, 1)\n",
      "Duration (seconds): 1.1911804676055908\n",
      "------------------------------------\n",
      "Processing current number of iteration : 16\n",
      "Training set:  (721, 8) (721, 1)\n",
      "Testing set:  (309, 8) (309, 1)\n",
      "Duration (seconds): 1.1937718391418457\n",
      "------------------------------------\n",
      "Processing current number of iteration : 17\n",
      "Training set:  (721, 8) (721, 1)\n",
      "Testing set:  (309, 8) (309, 1)\n",
      "Duration (seconds): 1.1709132194519043\n",
      "------------------------------------\n",
      "Processing current number of iteration : 18\n",
      "Training set:  (721, 8) (721, 1)\n",
      "Testing set:  (309, 8) (309, 1)\n",
      "Duration (seconds): 1.177380084991455\n",
      "------------------------------------\n",
      "Processing current number of iteration : 19\n",
      "Training set:  (721, 8) (721, 1)\n",
      "Testing set:  (309, 8) (309, 1)\n",
      "Duration (seconds): 1.1700420379638672\n",
      "------------------------------------\n",
      "Processing current number of iteration : 20\n",
      "Training set:  (721, 8) (721, 1)\n",
      "Testing set:  (309, 8) (309, 1)\n",
      "Duration (seconds): 1.2038354873657227\n",
      "------------------------------------\n",
      "Processing current number of iteration : 21\n",
      "Training set:  (721, 8) (721, 1)\n",
      "Testing set:  (309, 8) (309, 1)\n",
      "Duration (seconds): 1.185119867324829\n",
      "------------------------------------\n",
      "Processing current number of iteration : 22\n",
      "Training set:  (721, 8) (721, 1)\n",
      "Testing set:  (309, 8) (309, 1)\n",
      "Duration (seconds): 1.1577494144439697\n",
      "------------------------------------\n",
      "Processing current number of iteration : 23\n",
      "Training set:  (721, 8) (721, 1)\n",
      "Testing set:  (309, 8) (309, 1)\n",
      "Duration (seconds): 1.1662871837615967\n",
      "------------------------------------\n",
      "Processing current number of iteration : 24\n",
      "Training set:  (721, 8) (721, 1)\n",
      "Testing set:  (309, 8) (309, 1)\n",
      "Duration (seconds): 1.1694536209106445\n",
      "------------------------------------\n",
      "Processing current number of iteration : 25\n",
      "Training set:  (721, 8) (721, 1)\n",
      "Testing set:  (309, 8) (309, 1)\n",
      "Duration (seconds): 1.1446433067321777\n",
      "------------------------------------\n",
      "Processing current number of iteration : 26\n",
      "Training set:  (721, 8) (721, 1)\n",
      "Testing set:  (309, 8) (309, 1)\n",
      "Duration (seconds): 1.1651012897491455\n",
      "------------------------------------\n",
      "Processing current number of iteration : 27\n",
      "Training set:  (721, 8) (721, 1)\n",
      "Testing set:  (309, 8) (309, 1)\n",
      "Duration (seconds): 1.1827659606933594\n",
      "------------------------------------\n",
      "Processing current number of iteration : 28\n",
      "Training set:  (721, 8) (721, 1)\n",
      "Testing set:  (309, 8) (309, 1)\n",
      "Duration (seconds): 1.1461584568023682\n",
      "------------------------------------\n",
      "Processing current number of iteration : 29\n",
      "Training set:  (721, 8) (721, 1)\n",
      "Testing set:  (309, 8) (309, 1)\n",
      "Duration (seconds): 1.152252197265625\n",
      "------------------------------------\n",
      "Processing current number of iteration : 30\n",
      "Training set:  (721, 8) (721, 1)\n",
      "Testing set:  (309, 8) (309, 1)\n",
      "Duration (seconds): 1.127533197402954\n",
      "------------------------------------\n",
      "Processing current number of iteration : 31\n",
      "Training set:  (721, 8) (721, 1)\n",
      "Testing set:  (309, 8) (309, 1)\n",
      "Duration (seconds): 1.1783230304718018\n",
      "------------------------------------\n",
      "Processing current number of iteration : 32\n",
      "Training set:  (721, 8) (721, 1)\n",
      "Testing set:  (309, 8) (309, 1)\n",
      "Duration (seconds): 1.1680912971496582\n",
      "------------------------------------\n",
      "Processing current number of iteration : 33\n",
      "Training set:  (721, 8) (721, 1)\n",
      "Testing set:  (309, 8) (309, 1)\n",
      "Duration (seconds): 1.178755521774292\n",
      "------------------------------------\n",
      "Processing current number of iteration : 34\n",
      "Training set:  (721, 8) (721, 1)\n",
      "Testing set:  (309, 8) (309, 1)\n",
      "Duration (seconds): 1.1662993431091309\n",
      "------------------------------------\n",
      "Processing current number of iteration : 35\n",
      "Training set:  (721, 8) (721, 1)\n",
      "Testing set:  (309, 8) (309, 1)\n",
      "Duration (seconds): 1.1492292881011963\n",
      "------------------------------------\n",
      "Processing current number of iteration : 36\n",
      "Training set:  (721, 8) (721, 1)\n",
      "Testing set:  (309, 8) (309, 1)\n",
      "Duration (seconds): 1.2122914791107178\n",
      "------------------------------------\n",
      "Processing current number of iteration : 37\n",
      "Training set:  (721, 8) (721, 1)\n",
      "Testing set:  (309, 8) (309, 1)\n",
      "Duration (seconds): 1.166816234588623\n",
      "------------------------------------\n",
      "Processing current number of iteration : 38\n",
      "Training set:  (721, 8) (721, 1)\n",
      "Testing set:  (309, 8) (309, 1)\n",
      "Duration (seconds): 1.1740412712097168\n",
      "------------------------------------\n",
      "Processing current number of iteration : 39\n",
      "Training set:  (721, 8) (721, 1)\n",
      "Testing set:  (309, 8) (309, 1)\n",
      "Duration (seconds): 1.1639330387115479\n",
      "------------------------------------\n",
      "Processing current number of iteration : 40\n",
      "Training set:  (721, 8) (721, 1)\n",
      "Testing set:  (309, 8) (309, 1)\n",
      "Duration (seconds): 1.1598505973815918\n",
      "------------------------------------\n",
      "Processing current number of iteration : 41\n",
      "Training set:  (721, 8) (721, 1)\n",
      "Testing set:  (309, 8) (309, 1)\n",
      "Duration (seconds): 1.1432631015777588\n",
      "------------------------------------\n",
      "Processing current number of iteration : 42\n",
      "Training set:  (721, 8) (721, 1)\n",
      "Testing set:  (309, 8) (309, 1)\n",
      "Duration (seconds): 1.147005558013916\n",
      "------------------------------------\n",
      "Processing current number of iteration : 43\n",
      "Training set:  (721, 8) (721, 1)\n",
      "Testing set:  (309, 8) (309, 1)\n",
      "Duration (seconds): 1.1787915229797363\n",
      "------------------------------------\n",
      "Processing current number of iteration : 44\n",
      "Training set:  (721, 8) (721, 1)\n",
      "Testing set:  (309, 8) (309, 1)\n",
      "Duration (seconds): 1.1918864250183105\n",
      "------------------------------------\n",
      "Processing current number of iteration : 45\n",
      "Training set:  (721, 8) (721, 1)\n",
      "Testing set:  (309, 8) (309, 1)\n"
     ]
    },
    {
     "name": "stdout",
     "output_type": "stream",
     "text": [
      "Duration (seconds): 1.1599550247192383\n",
      "------------------------------------\n",
      "Processing current number of iteration : 46\n",
      "Training set:  (721, 8) (721, 1)\n",
      "Testing set:  (309, 8) (309, 1)\n",
      "Duration (seconds): 1.1388635635375977\n",
      "------------------------------------\n",
      "Processing current number of iteration : 47\n",
      "Training set:  (721, 8) (721, 1)\n",
      "Testing set:  (309, 8) (309, 1)\n",
      "Duration (seconds): 1.1544489860534668\n",
      "------------------------------------\n",
      "Processing current number of iteration : 48\n",
      "Training set:  (721, 8) (721, 1)\n",
      "Testing set:  (309, 8) (309, 1)\n",
      "Duration (seconds): 1.1595947742462158\n",
      "------------------------------------\n",
      "Processing current number of iteration : 49\n",
      "Training set:  (721, 8) (721, 1)\n",
      "Testing set:  (309, 8) (309, 1)\n",
      "Duration (seconds): 1.174560308456421\n",
      "------------------------------------\n",
      "Processing current number of iteration : 50\n",
      "Training set:  (721, 8) (721, 1)\n",
      "Testing set:  (309, 8) (309, 1)\n",
      "Duration (seconds): 1.1559510231018066\n",
      "Finished - 50 times.\n",
      "And the list of mean squared errors : [128.08921894171027, 114.75388039574885, 112.33333927277477, 115.08268291041293, 114.55243271781025, 116.12350936869683, 127.91574757590477, 119.0149584061136, 115.91675249326215, 116.16208987184041, 130.46293703384399, 85.13518727086758, 72.93827219388513, 68.63204151350789, 66.76113364792738, 60.54509915808695, 52.40828105391309, 52.79320766123161, 53.45862212619354, 51.51719155023038, 50.92279689727211, 51.86827989961423, 53.236045057785155, 50.730961337657654, 51.26591081448051, 51.49241905631506, 53.00888240496466, 51.59287189869719, 51.153745234307515, 51.142831526735314, 55.200724037888385, 51.574502525361446, 53.35073927444863, 51.70458375178837, 59.922383668108935, 53.48684051545392, 55.089939176626736, 52.65661364479712, 52.41498852266139, 54.07985858485029, 55.394926898931146, 51.97907939562788, 53.06720598775941, 51.501109279205195, 51.74313130099431, 51.427944763568924, 58.1447898278936, 53.7868095020127, 54.73534661708923, 53.00553762848225]\n",
      "------------------------------------------------------------------------\n",
      "The mean and the standard deviation of the mean squared errors are: 69.31 and 27.31, respectively\n"
     ]
    }
   ],
   "source": [
    "max_iteration = 50\n",
    "epochs = 50\n",
    "verbose = 0\n",
    "\n",
    "# Get the compiled model\n",
    "model = build_model_with_one_hidden_layer(num_of_features=num_of_features)\n",
    "\n",
    "mean_mse, std_mse = get_mean_and_std_of_mse(df_predictors, \n",
    "                                            df_target, \n",
    "                                            model, \n",
    "                                            max_iteration=max_iteration, \n",
    "                                            epochs=epochs, verbose=verbose)"
   ]
  },
  {
   "cell_type": "markdown",
   "metadata": {},
   "source": [
    "## Report the mean and the standard deviation of the mean squared errors"
   ]
  },
  {
   "cell_type": "code",
   "execution_count": null,
   "metadata": {
    "ExecuteTime": {
     "end_time": "2019-12-21T21:45:07.384348Z",
     "start_time": "2019-12-21T21:45:07.373224Z"
    }
   },
   "outputs": [
    {
     "data": {
      "text/html": [
       "<div>\n",
       "<style scoped>\n",
       "    .dataframe tbody tr th:only-of-type {\n",
       "        vertical-align: middle;\n",
       "    }\n",
       "\n",
       "    .dataframe tbody tr th {\n",
       "        vertical-align: top;\n",
       "    }\n",
       "\n",
       "    .dataframe thead th {\n",
       "        text-align: right;\n",
       "    }\n",
       "</style>\n",
       "<table border=\"1\" class=\"dataframe\">\n",
       "  <thead>\n",
       "    <tr style=\"text-align: right;\">\n",
       "      <th></th>\n",
       "      <th>Experiment</th>\n",
       "      <th>Mean MSE</th>\n",
       "      <th>Std Deviation MSE</th>\n",
       "    </tr>\n",
       "  </thead>\n",
       "  <tbody>\n",
       "    <tr>\n",
       "      <td>0</td>\n",
       "      <td>Baseline-Raw (50 epochs)</td>\n",
       "      <td>69.31</td>\n",
       "      <td>27.31</td>\n",
       "    </tr>\n",
       "  </tbody>\n",
       "</table>\n",
       "</div>"
      ],
      "text/plain": [
       "                 Experiment  Mean MSE  Std Deviation MSE\n",
       "0  Baseline-Raw (50 epochs)     69.31              27.31"
      ]
     },
     "execution_count": 22,
     "metadata": {},
     "output_type": "execute_result"
    }
   ],
   "source": [
    "name_of_experiment = \"Baseline-Raw (50 epochs)\"\n",
    "\n",
    "# Report the mean and the standard deviation of the mean squared errors\n",
    "df_result_baseline = get_report(name_of_experiment, mean_mse, std_mse)\n",
    "df_result_baseline"
   ]
  },
  {
   "cell_type": "code",
   "execution_count": null,
   "metadata": {
    "ExecuteTime": {
     "end_time": "2019-12-21T21:45:07.407282Z",
     "start_time": "2019-12-21T21:45:07.388055Z"
    }
   },
   "outputs": [
    {
     "data": {
      "text/html": [
       "<div>\n",
       "<style scoped>\n",
       "    .dataframe tbody tr th:only-of-type {\n",
       "        vertical-align: middle;\n",
       "    }\n",
       "\n",
       "    .dataframe tbody tr th {\n",
       "        vertical-align: top;\n",
       "    }\n",
       "\n",
       "    .dataframe thead th {\n",
       "        text-align: right;\n",
       "    }\n",
       "</style>\n",
       "<table border=\"1\" class=\"dataframe\">\n",
       "  <thead>\n",
       "    <tr style=\"text-align: right;\">\n",
       "      <th></th>\n",
       "      <th>Experiment</th>\n",
       "      <th>Mean MSE</th>\n",
       "      <th>Std Deviation MSE</th>\n",
       "    </tr>\n",
       "  </thead>\n",
       "  <tbody>\n",
       "    <tr>\n",
       "      <td>0</td>\n",
       "      <td>Baseline-Raw (50 epochs)</td>\n",
       "      <td>69.31</td>\n",
       "      <td>27.31</td>\n",
       "    </tr>\n",
       "  </tbody>\n",
       "</table>\n",
       "</div>"
      ],
      "text/plain": [
       "                 Experiment  Mean MSE  Std Deviation MSE\n",
       "0  Baseline-Raw (50 epochs)     69.31              27.31"
      ]
     },
     "execution_count": 23,
     "metadata": {},
     "output_type": "execute_result"
    }
   ],
   "source": [
    "# Concat baseline dataframe into result\n",
    "df_mse_and_rmse = pd.concat([df_mse_and_rmse, df_result_baseline], axis=0)\n",
    "\n",
    "# Review the result dataframe\n",
    "df_mse_and_rmse.reset_index(drop=True)"
   ]
  },
  {
   "cell_type": "markdown",
   "metadata": {},
   "source": [
    "# B - Experiment with Normalized Data\n",
    "\n",
    "Repeat Part A but use a normalized version of the data. Recall that one way to normalize the data is by subtracting the mean from the individual predictors and dividing by the standard deviation.\n",
    "\n",
    "How does the mean of the mean squared errors compare to that from Step A?"
   ]
  },
  {
   "cell_type": "markdown",
   "metadata": {},
   "source": [
    "## Normalize the data \n",
    "by substracting the mean and dividing by the standard deviation."
   ]
  },
  {
   "cell_type": "markdown",
   "metadata": {},
   "source": [
    "### Before normalization"
   ]
  },
  {
   "cell_type": "code",
   "execution_count": 24,
   "metadata": {
    "ExecuteTime": {
     "end_time": "2019-12-21T21:45:07.434087Z",
     "start_time": "2019-12-21T21:45:07.410198Z"
    }
   },
   "outputs": [
    {
     "data": {
      "text/html": [
       "<div>\n",
       "<style scoped>\n",
       "    .dataframe tbody tr th:only-of-type {\n",
       "        vertical-align: middle;\n",
       "    }\n",
       "\n",
       "    .dataframe tbody tr th {\n",
       "        vertical-align: top;\n",
       "    }\n",
       "\n",
       "    .dataframe thead th {\n",
       "        text-align: right;\n",
       "    }\n",
       "</style>\n",
       "<table border=\"1\" class=\"dataframe\">\n",
       "  <thead>\n",
       "    <tr style=\"text-align: right;\">\n",
       "      <th></th>\n",
       "      <th>Cement</th>\n",
       "      <th>Blast Furnace Slag</th>\n",
       "      <th>Fly Ash</th>\n",
       "      <th>Water</th>\n",
       "      <th>Superplasticizer</th>\n",
       "      <th>Coarse Aggregate</th>\n",
       "      <th>Fine Aggregate</th>\n",
       "      <th>Age</th>\n",
       "    </tr>\n",
       "  </thead>\n",
       "  <tbody>\n",
       "    <tr>\n",
       "      <td>0</td>\n",
       "      <td>540.0</td>\n",
       "      <td>0.0</td>\n",
       "      <td>0.0</td>\n",
       "      <td>162.0</td>\n",
       "      <td>2.5</td>\n",
       "      <td>1040.0</td>\n",
       "      <td>676.0</td>\n",
       "      <td>28</td>\n",
       "    </tr>\n",
       "    <tr>\n",
       "      <td>1</td>\n",
       "      <td>540.0</td>\n",
       "      <td>0.0</td>\n",
       "      <td>0.0</td>\n",
       "      <td>162.0</td>\n",
       "      <td>2.5</td>\n",
       "      <td>1055.0</td>\n",
       "      <td>676.0</td>\n",
       "      <td>28</td>\n",
       "    </tr>\n",
       "    <tr>\n",
       "      <td>2</td>\n",
       "      <td>332.5</td>\n",
       "      <td>142.5</td>\n",
       "      <td>0.0</td>\n",
       "      <td>228.0</td>\n",
       "      <td>0.0</td>\n",
       "      <td>932.0</td>\n",
       "      <td>594.0</td>\n",
       "      <td>270</td>\n",
       "    </tr>\n",
       "  </tbody>\n",
       "</table>\n",
       "</div>"
      ],
      "text/plain": [
       "   Cement  Blast Furnace Slag  Fly Ash  Water  Superplasticizer  \\\n",
       "0   540.0                 0.0      0.0  162.0               2.5   \n",
       "1   540.0                 0.0      0.0  162.0               2.5   \n",
       "2   332.5               142.5      0.0  228.0               0.0   \n",
       "\n",
       "   Coarse Aggregate  Fine Aggregate  Age  \n",
       "0            1040.0           676.0   28  \n",
       "1            1055.0           676.0   28  \n",
       "2             932.0           594.0  270  "
      ]
     },
     "execution_count": 24,
     "metadata": {},
     "output_type": "execute_result"
    }
   ],
   "source": [
    "df_predictors.head(3)"
   ]
  },
  {
   "cell_type": "markdown",
   "metadata": {},
   "source": [
    "### After normalization"
   ]
  },
  {
   "cell_type": "code",
   "execution_count": 25,
   "metadata": {
    "ExecuteTime": {
     "end_time": "2019-12-21T21:45:07.457178Z",
     "start_time": "2019-12-21T21:45:07.435568Z"
    }
   },
   "outputs": [
    {
     "data": {
      "text/html": [
       "<div>\n",
       "<style scoped>\n",
       "    .dataframe tbody tr th:only-of-type {\n",
       "        vertical-align: middle;\n",
       "    }\n",
       "\n",
       "    .dataframe tbody tr th {\n",
       "        vertical-align: top;\n",
       "    }\n",
       "\n",
       "    .dataframe thead th {\n",
       "        text-align: right;\n",
       "    }\n",
       "</style>\n",
       "<table border=\"1\" class=\"dataframe\">\n",
       "  <thead>\n",
       "    <tr style=\"text-align: right;\">\n",
       "      <th></th>\n",
       "      <th>Cement</th>\n",
       "      <th>Blast Furnace Slag</th>\n",
       "      <th>Fly Ash</th>\n",
       "      <th>Water</th>\n",
       "      <th>Superplasticizer</th>\n",
       "      <th>Coarse Aggregate</th>\n",
       "      <th>Fine Aggregate</th>\n",
       "      <th>Age</th>\n",
       "    </tr>\n",
       "  </thead>\n",
       "  <tbody>\n",
       "    <tr>\n",
       "      <td>0</td>\n",
       "      <td>2.476712</td>\n",
       "      <td>-0.856472</td>\n",
       "      <td>-0.846733</td>\n",
       "      <td>-0.916319</td>\n",
       "      <td>-0.620147</td>\n",
       "      <td>0.862735</td>\n",
       "      <td>-1.217079</td>\n",
       "      <td>-0.279597</td>\n",
       "    </tr>\n",
       "    <tr>\n",
       "      <td>1</td>\n",
       "      <td>2.476712</td>\n",
       "      <td>-0.856472</td>\n",
       "      <td>-0.846733</td>\n",
       "      <td>-0.916319</td>\n",
       "      <td>-0.620147</td>\n",
       "      <td>1.055651</td>\n",
       "      <td>-1.217079</td>\n",
       "      <td>-0.279597</td>\n",
       "    </tr>\n",
       "    <tr>\n",
       "      <td>2</td>\n",
       "      <td>0.491187</td>\n",
       "      <td>0.795140</td>\n",
       "      <td>-0.846733</td>\n",
       "      <td>2.174405</td>\n",
       "      <td>-1.038638</td>\n",
       "      <td>-0.526262</td>\n",
       "      <td>-2.239829</td>\n",
       "      <td>3.551340</td>\n",
       "    </tr>\n",
       "  </tbody>\n",
       "</table>\n",
       "</div>"
      ],
      "text/plain": [
       "     Cement  Blast Furnace Slag   Fly Ash     Water  Superplasticizer  \\\n",
       "0  2.476712           -0.856472 -0.846733 -0.916319         -0.620147   \n",
       "1  2.476712           -0.856472 -0.846733 -0.916319         -0.620147   \n",
       "2  0.491187            0.795140 -0.846733  2.174405         -1.038638   \n",
       "\n",
       "   Coarse Aggregate  Fine Aggregate       Age  \n",
       "0          0.862735       -1.217079 -0.279597  \n",
       "1          1.055651       -1.217079 -0.279597  \n",
       "2         -0.526262       -2.239829  3.551340  "
      ]
     },
     "execution_count": 25,
     "metadata": {},
     "output_type": "execute_result"
    }
   ],
   "source": [
    "df_predictors_norm.head(3)"
   ]
  },
  {
   "cell_type": "markdown",
   "metadata": {},
   "source": [
    "## Building and Training with the baseline model after normalizing the data with 50 epochs"
   ]
  },
  {
   "cell_type": "code",
   "execution_count": 26,
   "metadata": {
    "ExecuteTime": {
     "end_time": "2019-12-21T21:46:06.805061Z",
     "start_time": "2019-12-21T21:45:07.458824Z"
    },
    "scrolled": true
   },
   "outputs": [
    {
     "name": "stdout",
     "output_type": "stream",
     "text": [
      "------------------------------------\n",
      "Processing current number of iteration : 1\n",
      "Training set:  (721, 8) (721, 1)\n",
      "Testing set:  (309, 8) (309, 1)\n",
      "Duration (seconds): 1.573667287826538\n",
      "------------------------------------\n",
      "Processing current number of iteration : 2\n",
      "Training set:  (721, 8) (721, 1)\n",
      "Testing set:  (309, 8) (309, 1)\n",
      "Duration (seconds): 1.022836685180664\n",
      "------------------------------------\n",
      "Processing current number of iteration : 3\n",
      "Training set:  (721, 8) (721, 1)\n",
      "Testing set:  (309, 8) (309, 1)\n",
      "Duration (seconds): 1.1459572315216064\n",
      "------------------------------------\n",
      "Processing current number of iteration : 4\n",
      "Training set:  (721, 8) (721, 1)\n",
      "Testing set:  (309, 8) (309, 1)\n",
      "Duration (seconds): 1.1659250259399414\n",
      "------------------------------------\n",
      "Processing current number of iteration : 5\n",
      "Training set:  (721, 8) (721, 1)\n",
      "Testing set:  (309, 8) (309, 1)\n",
      "Duration (seconds): 1.1668777465820312\n",
      "------------------------------------\n",
      "Processing current number of iteration : 6\n",
      "Training set:  (721, 8) (721, 1)\n",
      "Testing set:  (309, 8) (309, 1)\n",
      "Duration (seconds): 1.1779162883758545\n",
      "------------------------------------\n",
      "Processing current number of iteration : 7\n",
      "Training set:  (721, 8) (721, 1)\n",
      "Testing set:  (309, 8) (309, 1)\n",
      "Duration (seconds): 1.2840580940246582\n",
      "------------------------------------\n",
      "Processing current number of iteration : 8\n",
      "Training set:  (721, 8) (721, 1)\n",
      "Testing set:  (309, 8) (309, 1)\n",
      "Duration (seconds): 1.1975064277648926\n",
      "------------------------------------\n",
      "Processing current number of iteration : 9\n",
      "Training set:  (721, 8) (721, 1)\n",
      "Testing set:  (309, 8) (309, 1)\n",
      "Duration (seconds): 1.1922457218170166\n",
      "------------------------------------\n",
      "Processing current number of iteration : 10\n",
      "Training set:  (721, 8) (721, 1)\n",
      "Testing set:  (309, 8) (309, 1)\n",
      "Duration (seconds): 1.1800267696380615\n",
      "------------------------------------\n",
      "Processing current number of iteration : 11\n",
      "Training set:  (721, 8) (721, 1)\n",
      "Testing set:  (309, 8) (309, 1)\n",
      "Duration (seconds): 1.1610605716705322\n",
      "------------------------------------\n",
      "Processing current number of iteration : 12\n",
      "Training set:  (721, 8) (721, 1)\n",
      "Testing set:  (309, 8) (309, 1)\n",
      "Duration (seconds): 1.1647932529449463\n",
      "------------------------------------\n",
      "Processing current number of iteration : 13\n",
      "Training set:  (721, 8) (721, 1)\n",
      "Testing set:  (309, 8) (309, 1)\n",
      "Duration (seconds): 1.1918971538543701\n",
      "------------------------------------\n",
      "Processing current number of iteration : 14\n",
      "Training set:  (721, 8) (721, 1)\n",
      "Testing set:  (309, 8) (309, 1)\n",
      "Duration (seconds): 1.188126802444458\n",
      "------------------------------------\n",
      "Processing current number of iteration : 15\n",
      "Training set:  (721, 8) (721, 1)\n",
      "Testing set:  (309, 8) (309, 1)\n",
      "Duration (seconds): 1.1753671169281006\n",
      "------------------------------------\n",
      "Processing current number of iteration : 16\n",
      "Training set:  (721, 8) (721, 1)\n",
      "Testing set:  (309, 8) (309, 1)\n",
      "Duration (seconds): 1.1869862079620361\n",
      "------------------------------------\n",
      "Processing current number of iteration : 17\n",
      "Training set:  (721, 8) (721, 1)\n",
      "Testing set:  (309, 8) (309, 1)\n",
      "Duration (seconds): 1.180025577545166\n",
      "------------------------------------\n",
      "Processing current number of iteration : 18\n",
      "Training set:  (721, 8) (721, 1)\n",
      "Testing set:  (309, 8) (309, 1)\n",
      "Duration (seconds): 1.1838366985321045\n",
      "------------------------------------\n",
      "Processing current number of iteration : 19\n",
      "Training set:  (721, 8) (721, 1)\n",
      "Testing set:  (309, 8) (309, 1)\n",
      "Duration (seconds): 1.147012710571289\n",
      "------------------------------------\n",
      "Processing current number of iteration : 20\n",
      "Training set:  (721, 8) (721, 1)\n",
      "Testing set:  (309, 8) (309, 1)\n",
      "Duration (seconds): 1.1491308212280273\n",
      "------------------------------------\n",
      "Processing current number of iteration : 21\n",
      "Training set:  (721, 8) (721, 1)\n",
      "Testing set:  (309, 8) (309, 1)\n",
      "Duration (seconds): 1.1934714317321777\n",
      "------------------------------------\n",
      "Processing current number of iteration : 22\n",
      "Training set:  (721, 8) (721, 1)\n",
      "Testing set:  (309, 8) (309, 1)\n",
      "Duration (seconds): 1.1631050109863281\n",
      "------------------------------------\n",
      "Processing current number of iteration : 23\n",
      "Training set:  (721, 8) (721, 1)\n",
      "Testing set:  (309, 8) (309, 1)\n",
      "Duration (seconds): 1.1924455165863037\n",
      "------------------------------------\n",
      "Processing current number of iteration : 24\n",
      "Training set:  (721, 8) (721, 1)\n",
      "Testing set:  (309, 8) (309, 1)\n",
      "Duration (seconds): 1.1941285133361816\n",
      "------------------------------------\n",
      "Processing current number of iteration : 25\n",
      "Training set:  (721, 8) (721, 1)\n",
      "Testing set:  (309, 8) (309, 1)\n",
      "Duration (seconds): 1.1865954399108887\n",
      "------------------------------------\n",
      "Processing current number of iteration : 26\n",
      "Training set:  (721, 8) (721, 1)\n",
      "Testing set:  (309, 8) (309, 1)\n",
      "Duration (seconds): 1.2230360507965088\n",
      "------------------------------------\n",
      "Processing current number of iteration : 27\n",
      "Training set:  (721, 8) (721, 1)\n",
      "Testing set:  (309, 8) (309, 1)\n",
      "Duration (seconds): 1.159883975982666\n",
      "------------------------------------\n",
      "Processing current number of iteration : 28\n",
      "Training set:  (721, 8) (721, 1)\n",
      "Testing set:  (309, 8) (309, 1)\n",
      "Duration (seconds): 1.1761789321899414\n",
      "------------------------------------\n",
      "Processing current number of iteration : 29\n",
      "Training set:  (721, 8) (721, 1)\n",
      "Testing set:  (309, 8) (309, 1)\n",
      "Duration (seconds): 1.1684753894805908\n",
      "------------------------------------\n",
      "Processing current number of iteration : 30\n",
      "Training set:  (721, 8) (721, 1)\n",
      "Testing set:  (309, 8) (309, 1)\n",
      "Duration (seconds): 1.1766917705535889\n",
      "------------------------------------\n",
      "Processing current number of iteration : 31\n",
      "Training set:  (721, 8) (721, 1)\n",
      "Testing set:  (309, 8) (309, 1)\n",
      "Duration (seconds): 1.2010164260864258\n",
      "------------------------------------\n",
      "Processing current number of iteration : 32\n",
      "Training set:  (721, 8) (721, 1)\n",
      "Testing set:  (309, 8) (309, 1)\n",
      "Duration (seconds): 1.178919792175293\n",
      "------------------------------------\n",
      "Processing current number of iteration : 33\n",
      "Training set:  (721, 8) (721, 1)\n",
      "Testing set:  (309, 8) (309, 1)\n",
      "Duration (seconds): 1.1891810894012451\n",
      "------------------------------------\n",
      "Processing current number of iteration : 34\n",
      "Training set:  (721, 8) (721, 1)\n",
      "Testing set:  (309, 8) (309, 1)\n",
      "Duration (seconds): 1.1445331573486328\n",
      "------------------------------------\n",
      "Processing current number of iteration : 35\n",
      "Training set:  (721, 8) (721, 1)\n",
      "Testing set:  (309, 8) (309, 1)\n",
      "Duration (seconds): 1.1950507164001465\n",
      "------------------------------------\n",
      "Processing current number of iteration : 36\n",
      "Training set:  (721, 8) (721, 1)\n",
      "Testing set:  (309, 8) (309, 1)\n",
      "Duration (seconds): 1.1471889019012451\n",
      "------------------------------------\n",
      "Processing current number of iteration : 37\n",
      "Training set:  (721, 8) (721, 1)\n",
      "Testing set:  (309, 8) (309, 1)\n",
      "Duration (seconds): 1.1821513175964355\n",
      "------------------------------------\n",
      "Processing current number of iteration : 38\n",
      "Training set:  (721, 8) (721, 1)\n",
      "Testing set:  (309, 8) (309, 1)\n",
      "Duration (seconds): 1.2044148445129395\n",
      "------------------------------------\n",
      "Processing current number of iteration : 39\n",
      "Training set:  (721, 8) (721, 1)\n",
      "Testing set:  (309, 8) (309, 1)\n",
      "Duration (seconds): 1.208259105682373\n",
      "------------------------------------\n",
      "Processing current number of iteration : 40\n",
      "Training set:  (721, 8) (721, 1)\n",
      "Testing set:  (309, 8) (309, 1)\n",
      "Duration (seconds): 1.1535356044769287\n",
      "------------------------------------\n",
      "Processing current number of iteration : 41\n",
      "Training set:  (721, 8) (721, 1)\n",
      "Testing set:  (309, 8) (309, 1)\n",
      "Duration (seconds): 1.1862077713012695\n",
      "------------------------------------\n",
      "Processing current number of iteration : 42\n",
      "Training set:  (721, 8) (721, 1)\n",
      "Testing set:  (309, 8) (309, 1)\n",
      "Duration (seconds): 1.1748466491699219\n",
      "------------------------------------\n",
      "Processing current number of iteration : 43\n",
      "Training set:  (721, 8) (721, 1)\n",
      "Testing set:  (309, 8) (309, 1)\n",
      "Duration (seconds): 1.1949570178985596\n",
      "------------------------------------\n",
      "Processing current number of iteration : 44\n",
      "Training set:  (721, 8) (721, 1)\n",
      "Testing set:  (309, 8) (309, 1)\n",
      "Duration (seconds): 1.1760973930358887\n",
      "------------------------------------\n",
      "Processing current number of iteration : 45\n",
      "Training set:  (721, 8) (721, 1)\n",
      "Testing set:  (309, 8) (309, 1)\n"
     ]
    },
    {
     "name": "stdout",
     "output_type": "stream",
     "text": [
      "Duration (seconds): 1.164245367050171\n",
      "------------------------------------\n",
      "Processing current number of iteration : 46\n",
      "Training set:  (721, 8) (721, 1)\n",
      "Testing set:  (309, 8) (309, 1)\n",
      "Duration (seconds): 1.1984591484069824\n",
      "------------------------------------\n",
      "Processing current number of iteration : 47\n",
      "Training set:  (721, 8) (721, 1)\n",
      "Testing set:  (309, 8) (309, 1)\n",
      "Duration (seconds): 1.1753520965576172\n",
      "------------------------------------\n",
      "Processing current number of iteration : 48\n",
      "Training set:  (721, 8) (721, 1)\n",
      "Testing set:  (309, 8) (309, 1)\n",
      "Duration (seconds): 1.1900634765625\n",
      "------------------------------------\n",
      "Processing current number of iteration : 49\n",
      "Training set:  (721, 8) (721, 1)\n",
      "Testing set:  (309, 8) (309, 1)\n",
      "Duration (seconds): 1.191918134689331\n",
      "------------------------------------\n",
      "Processing current number of iteration : 50\n",
      "Training set:  (721, 8) (721, 1)\n",
      "Testing set:  (309, 8) (309, 1)\n",
      "Duration (seconds): 1.166346788406372\n",
      "Finished - 50 times.\n",
      "And the list of mean squared errors : [388.63190233422563, 158.2547826912589, 110.86644331386921, 82.02731886926135, 66.0738490189397, 58.52633800705516, 53.11499181436509, 48.09867211959443, 44.40476902468232, 42.45720506241382, 41.140241560373696, 39.5030931258105, 38.592170602301174, 38.162015650008996, 37.81780238770596, 37.62334262587298, 37.142515462135975, 36.94271208369468, 36.783653966511494, 36.54587399498803, 36.4953428515629, 36.21753595111147, 36.216492389107074, 36.21176864297438, 36.036204698150726, 36.25149336221852, 36.202097215071866, 35.96742791814627, 35.897647580621985, 35.92969494022984, 35.71680791207932, 35.77360239431405, 35.63311479479084, 35.45232089248988, 35.524948069665285, 35.27790372648816, 35.38925002170337, 35.437443285187115, 35.22530731401085, 35.372687332571005, 35.441481445836814, 35.440937941337, 35.395674738029236, 35.43161924218145, 35.24017186663503, 35.13423140084052, 35.07156752144571, 34.95381346755133, 34.96973315567753, 34.95130708135256]\n",
      "------------------------------------------------------------------------\n",
      "The mean and the standard deviation of the mean squared errors are: 50.02 and 52.77, respectively\n"
     ]
    }
   ],
   "source": [
    "max_iteration = 50\n",
    "epochs = 50\n",
    "verbose = 0\n",
    "\n",
    "# Get the compiled model\n",
    "model = build_model_with_one_hidden_layer(num_of_features=num_of_features)\n",
    "\n",
    "mean_mse, std_mse = get_mean_and_std_of_mse(df_predictors_norm, \n",
    "                                            df_target, \n",
    "                                            model, \n",
    "                                            max_iteration=max_iteration, \n",
    "                                            epochs=epochs, verbose=verbose)"
   ]
  },
  {
   "cell_type": "markdown",
   "metadata": {},
   "source": [
    "## Report the mean and the standard deviation of the mean squared errors"
   ]
  },
  {
   "cell_type": "code",
   "execution_count": 27,
   "metadata": {
    "ExecuteTime": {
     "end_time": "2019-12-21T21:46:06.818131Z",
     "start_time": "2019-12-21T21:46:06.807195Z"
    }
   },
   "outputs": [
    {
     "data": {
      "text/html": [
       "<div>\n",
       "<style scoped>\n",
       "    .dataframe tbody tr th:only-of-type {\n",
       "        vertical-align: middle;\n",
       "    }\n",
       "\n",
       "    .dataframe tbody tr th {\n",
       "        vertical-align: top;\n",
       "    }\n",
       "\n",
       "    .dataframe thead th {\n",
       "        text-align: right;\n",
       "    }\n",
       "</style>\n",
       "<table border=\"1\" class=\"dataframe\">\n",
       "  <thead>\n",
       "    <tr style=\"text-align: right;\">\n",
       "      <th></th>\n",
       "      <th>Experiment</th>\n",
       "      <th>Mean MSE</th>\n",
       "      <th>Std Deviation MSE</th>\n",
       "    </tr>\n",
       "  </thead>\n",
       "  <tbody>\n",
       "    <tr>\n",
       "      <td>0</td>\n",
       "      <td>Normalized-1 Hidden Layers(50 epochs)</td>\n",
       "      <td>50.02</td>\n",
       "      <td>52.77</td>\n",
       "    </tr>\n",
       "  </tbody>\n",
       "</table>\n",
       "</div>"
      ],
      "text/plain": [
       "                              Experiment  Mean MSE  Std Deviation MSE\n",
       "0  Normalized-1 Hidden Layers(50 epochs)     50.02              52.77"
      ]
     },
     "execution_count": 27,
     "metadata": {},
     "output_type": "execute_result"
    }
   ],
   "source": [
    "name_of_experiment = \"Normalized-1 Hidden Layers(50 epochs)\"\n",
    "\n",
    "# Report the mean and the standard deviation of the mean squared errors\n",
    "df_result_baseline = get_report(name_of_experiment, mean_mse, std_mse)\n",
    "df_result_baseline"
   ]
  },
  {
   "cell_type": "code",
   "execution_count": 28,
   "metadata": {
    "ExecuteTime": {
     "end_time": "2019-12-21T21:46:06.844706Z",
     "start_time": "2019-12-21T21:46:06.820412Z"
    }
   },
   "outputs": [
    {
     "data": {
      "text/html": [
       "<div>\n",
       "<style scoped>\n",
       "    .dataframe tbody tr th:only-of-type {\n",
       "        vertical-align: middle;\n",
       "    }\n",
       "\n",
       "    .dataframe tbody tr th {\n",
       "        vertical-align: top;\n",
       "    }\n",
       "\n",
       "    .dataframe thead th {\n",
       "        text-align: right;\n",
       "    }\n",
       "</style>\n",
       "<table border=\"1\" class=\"dataframe\">\n",
       "  <thead>\n",
       "    <tr style=\"text-align: right;\">\n",
       "      <th></th>\n",
       "      <th>Experiment</th>\n",
       "      <th>Mean MSE</th>\n",
       "      <th>Std Deviation MSE</th>\n",
       "    </tr>\n",
       "  </thead>\n",
       "  <tbody>\n",
       "    <tr>\n",
       "      <td>0</td>\n",
       "      <td>Baseline-Raw (50 epochs)</td>\n",
       "      <td>69.31</td>\n",
       "      <td>27.31</td>\n",
       "    </tr>\n",
       "    <tr>\n",
       "      <td>1</td>\n",
       "      <td>Normalized-1 Hidden Layers(50 epochs)</td>\n",
       "      <td>50.02</td>\n",
       "      <td>52.77</td>\n",
       "    </tr>\n",
       "  </tbody>\n",
       "</table>\n",
       "</div>"
      ],
      "text/plain": [
       "                              Experiment  Mean MSE  Std Deviation MSE\n",
       "0               Baseline-Raw (50 epochs)     69.31              27.31\n",
       "1  Normalized-1 Hidden Layers(50 epochs)     50.02              52.77"
      ]
     },
     "execution_count": 28,
     "metadata": {},
     "output_type": "execute_result"
    }
   ],
   "source": [
    "# Concat baseline dataframe into result\n",
    "df_mse_and_rmse = pd.concat([df_mse_and_rmse, df_result_baseline], axis=0)\n",
    "\n",
    "# Review the result dataframe\n",
    "df_mse_and_rmse.reset_index(drop=True)"
   ]
  },
  {
   "cell_type": "markdown",
   "metadata": {},
   "source": [
    "# C. Increate the number of epochs\n",
    "\n",
    "Repeat Part B but use 100 epochs this time for training.\n",
    "\n",
    "How does the mean of the mean squared errors compare to that from Step B?"
   ]
  },
  {
   "cell_type": "markdown",
   "metadata": {},
   "source": [
    "## Building and Training with the baseline model after normalizing the data with 100 epochs"
   ]
  },
  {
   "cell_type": "code",
   "execution_count": 29,
   "metadata": {
    "ExecuteTime": {
     "end_time": "2019-12-21T21:48:04.126555Z",
     "start_time": "2019-12-21T21:46:06.846733Z"
    },
    "scrolled": true
   },
   "outputs": [
    {
     "name": "stdout",
     "output_type": "stream",
     "text": [
      "------------------------------------\n",
      "Processing current number of iteration : 1\n",
      "Training set:  (721, 8) (721, 1)\n",
      "Testing set:  (309, 8) (309, 1)\n",
      "Duration (seconds): 2.759389877319336\n",
      "------------------------------------\n",
      "Processing current number of iteration : 2\n",
      "Training set:  (721, 8) (721, 1)\n",
      "Testing set:  (309, 8) (309, 1)\n",
      "Duration (seconds): 2.384188413619995\n",
      "------------------------------------\n",
      "Processing current number of iteration : 3\n",
      "Training set:  (721, 8) (721, 1)\n",
      "Testing set:  (309, 8) (309, 1)\n",
      "Duration (seconds): 2.3676717281341553\n",
      "------------------------------------\n",
      "Processing current number of iteration : 4\n",
      "Training set:  (721, 8) (721, 1)\n",
      "Testing set:  (309, 8) (309, 1)\n",
      "Duration (seconds): 2.377997875213623\n",
      "------------------------------------\n",
      "Processing current number of iteration : 5\n",
      "Training set:  (721, 8) (721, 1)\n",
      "Testing set:  (309, 8) (309, 1)\n",
      "Duration (seconds): 2.3327739238739014\n",
      "------------------------------------\n",
      "Processing current number of iteration : 6\n",
      "Training set:  (721, 8) (721, 1)\n",
      "Testing set:  (309, 8) (309, 1)\n",
      "Duration (seconds): 2.4333019256591797\n",
      "------------------------------------\n",
      "Processing current number of iteration : 7\n",
      "Training set:  (721, 8) (721, 1)\n",
      "Testing set:  (309, 8) (309, 1)\n",
      "Duration (seconds): 2.3626723289489746\n",
      "------------------------------------\n",
      "Processing current number of iteration : 8\n",
      "Training set:  (721, 8) (721, 1)\n",
      "Testing set:  (309, 8) (309, 1)\n",
      "Duration (seconds): 2.30769419670105\n",
      "------------------------------------\n",
      "Processing current number of iteration : 9\n",
      "Training set:  (721, 8) (721, 1)\n",
      "Testing set:  (309, 8) (309, 1)\n",
      "Duration (seconds): 2.315070390701294\n",
      "------------------------------------\n",
      "Processing current number of iteration : 10\n",
      "Training set:  (721, 8) (721, 1)\n",
      "Testing set:  (309, 8) (309, 1)\n",
      "Duration (seconds): 2.3415541648864746\n",
      "------------------------------------\n",
      "Processing current number of iteration : 11\n",
      "Training set:  (721, 8) (721, 1)\n",
      "Testing set:  (309, 8) (309, 1)\n",
      "Duration (seconds): 2.4159555435180664\n",
      "------------------------------------\n",
      "Processing current number of iteration : 12\n",
      "Training set:  (721, 8) (721, 1)\n",
      "Testing set:  (309, 8) (309, 1)\n",
      "Duration (seconds): 2.3619065284729004\n",
      "------------------------------------\n",
      "Processing current number of iteration : 13\n",
      "Training set:  (721, 8) (721, 1)\n",
      "Testing set:  (309, 8) (309, 1)\n",
      "Duration (seconds): 2.376192331314087\n",
      "------------------------------------\n",
      "Processing current number of iteration : 14\n",
      "Training set:  (721, 8) (721, 1)\n",
      "Testing set:  (309, 8) (309, 1)\n",
      "Duration (seconds): 2.3126413822174072\n",
      "------------------------------------\n",
      "Processing current number of iteration : 15\n",
      "Training set:  (721, 8) (721, 1)\n",
      "Testing set:  (309, 8) (309, 1)\n",
      "Duration (seconds): 2.333115816116333\n",
      "------------------------------------\n",
      "Processing current number of iteration : 16\n",
      "Training set:  (721, 8) (721, 1)\n",
      "Testing set:  (309, 8) (309, 1)\n",
      "Duration (seconds): 2.31815505027771\n",
      "------------------------------------\n",
      "Processing current number of iteration : 17\n",
      "Training set:  (721, 8) (721, 1)\n",
      "Testing set:  (309, 8) (309, 1)\n",
      "Duration (seconds): 2.3263864517211914\n",
      "------------------------------------\n",
      "Processing current number of iteration : 18\n",
      "Training set:  (721, 8) (721, 1)\n",
      "Testing set:  (309, 8) (309, 1)\n",
      "Duration (seconds): 2.322038412094116\n",
      "------------------------------------\n",
      "Processing current number of iteration : 19\n",
      "Training set:  (721, 8) (721, 1)\n",
      "Testing set:  (309, 8) (309, 1)\n",
      "Duration (seconds): 2.3578453063964844\n",
      "------------------------------------\n",
      "Processing current number of iteration : 20\n",
      "Training set:  (721, 8) (721, 1)\n",
      "Testing set:  (309, 8) (309, 1)\n",
      "Duration (seconds): 2.3391239643096924\n",
      "------------------------------------\n",
      "Processing current number of iteration : 21\n",
      "Training set:  (721, 8) (721, 1)\n",
      "Testing set:  (309, 8) (309, 1)\n",
      "Duration (seconds): 2.3861539363861084\n",
      "------------------------------------\n",
      "Processing current number of iteration : 22\n",
      "Training set:  (721, 8) (721, 1)\n",
      "Testing set:  (309, 8) (309, 1)\n",
      "Duration (seconds): 2.3177664279937744\n",
      "------------------------------------\n",
      "Processing current number of iteration : 23\n",
      "Training set:  (721, 8) (721, 1)\n",
      "Testing set:  (309, 8) (309, 1)\n",
      "Duration (seconds): 2.3553593158721924\n",
      "------------------------------------\n",
      "Processing current number of iteration : 24\n",
      "Training set:  (721, 8) (721, 1)\n",
      "Testing set:  (309, 8) (309, 1)\n",
      "Duration (seconds): 2.3227601051330566\n",
      "------------------------------------\n",
      "Processing current number of iteration : 25\n",
      "Training set:  (721, 8) (721, 1)\n",
      "Testing set:  (309, 8) (309, 1)\n",
      "Duration (seconds): 2.3031857013702393\n",
      "------------------------------------\n",
      "Processing current number of iteration : 26\n",
      "Training set:  (721, 8) (721, 1)\n",
      "Testing set:  (309, 8) (309, 1)\n",
      "Duration (seconds): 2.3632776737213135\n",
      "------------------------------------\n",
      "Processing current number of iteration : 27\n",
      "Training set:  (721, 8) (721, 1)\n",
      "Testing set:  (309, 8) (309, 1)\n",
      "Duration (seconds): 2.357853412628174\n",
      "------------------------------------\n",
      "Processing current number of iteration : 28\n",
      "Training set:  (721, 8) (721, 1)\n",
      "Testing set:  (309, 8) (309, 1)\n",
      "Duration (seconds): 2.339599847793579\n",
      "------------------------------------\n",
      "Processing current number of iteration : 29\n",
      "Training set:  (721, 8) (721, 1)\n",
      "Testing set:  (309, 8) (309, 1)\n",
      "Duration (seconds): 2.3392515182495117\n",
      "------------------------------------\n",
      "Processing current number of iteration : 30\n",
      "Training set:  (721, 8) (721, 1)\n",
      "Testing set:  (309, 8) (309, 1)\n",
      "Duration (seconds): 2.367676258087158\n",
      "------------------------------------\n",
      "Processing current number of iteration : 31\n",
      "Training set:  (721, 8) (721, 1)\n",
      "Testing set:  (309, 8) (309, 1)\n",
      "Duration (seconds): 2.153303623199463\n",
      "------------------------------------\n",
      "Processing current number of iteration : 32\n",
      "Training set:  (721, 8) (721, 1)\n",
      "Testing set:  (309, 8) (309, 1)\n",
      "Duration (seconds): 2.334819793701172\n",
      "------------------------------------\n",
      "Processing current number of iteration : 33\n",
      "Training set:  (721, 8) (721, 1)\n",
      "Testing set:  (309, 8) (309, 1)\n",
      "Duration (seconds): 2.3596630096435547\n",
      "------------------------------------\n",
      "Processing current number of iteration : 34\n",
      "Training set:  (721, 8) (721, 1)\n",
      "Testing set:  (309, 8) (309, 1)\n",
      "Duration (seconds): 2.342500925064087\n",
      "------------------------------------\n",
      "Processing current number of iteration : 35\n",
      "Training set:  (721, 8) (721, 1)\n",
      "Testing set:  (309, 8) (309, 1)\n",
      "Duration (seconds): 2.3081231117248535\n",
      "------------------------------------\n",
      "Processing current number of iteration : 36\n",
      "Training set:  (721, 8) (721, 1)\n",
      "Testing set:  (309, 8) (309, 1)\n",
      "Duration (seconds): 2.335350275039673\n",
      "------------------------------------\n",
      "Processing current number of iteration : 37\n",
      "Training set:  (721, 8) (721, 1)\n",
      "Testing set:  (309, 8) (309, 1)\n",
      "Duration (seconds): 2.3823177814483643\n",
      "------------------------------------\n",
      "Processing current number of iteration : 38\n",
      "Training set:  (721, 8) (721, 1)\n",
      "Testing set:  (309, 8) (309, 1)\n",
      "Duration (seconds): 2.3523237705230713\n",
      "------------------------------------\n",
      "Processing current number of iteration : 39\n",
      "Training set:  (721, 8) (721, 1)\n",
      "Testing set:  (309, 8) (309, 1)\n",
      "Duration (seconds): 2.35742449760437\n",
      "------------------------------------\n",
      "Processing current number of iteration : 40\n",
      "Training set:  (721, 8) (721, 1)\n",
      "Testing set:  (309, 8) (309, 1)\n",
      "Duration (seconds): 2.3300790786743164\n",
      "------------------------------------\n",
      "Processing current number of iteration : 41\n",
      "Training set:  (721, 8) (721, 1)\n",
      "Testing set:  (309, 8) (309, 1)\n",
      "Duration (seconds): 2.319429636001587\n",
      "------------------------------------\n",
      "Processing current number of iteration : 42\n",
      "Training set:  (721, 8) (721, 1)\n",
      "Testing set:  (309, 8) (309, 1)\n",
      "Duration (seconds): 2.3132824897766113\n",
      "------------------------------------\n",
      "Processing current number of iteration : 43\n",
      "Training set:  (721, 8) (721, 1)\n",
      "Testing set:  (309, 8) (309, 1)\n",
      "Duration (seconds): 2.324213981628418\n",
      "------------------------------------\n",
      "Processing current number of iteration : 44\n",
      "Training set:  (721, 8) (721, 1)\n",
      "Testing set:  (309, 8) (309, 1)\n",
      "Duration (seconds): 2.3682267665863037\n",
      "------------------------------------\n",
      "Processing current number of iteration : 45\n",
      "Training set:  (721, 8) (721, 1)\n",
      "Testing set:  (309, 8) (309, 1)\n"
     ]
    },
    {
     "name": "stdout",
     "output_type": "stream",
     "text": [
      "Duration (seconds): 2.3129348754882812\n",
      "------------------------------------\n",
      "Processing current number of iteration : 46\n",
      "Training set:  (721, 8) (721, 1)\n",
      "Testing set:  (309, 8) (309, 1)\n",
      "Duration (seconds): 2.2984092235565186\n",
      "------------------------------------\n",
      "Processing current number of iteration : 47\n",
      "Training set:  (721, 8) (721, 1)\n",
      "Testing set:  (309, 8) (309, 1)\n",
      "Duration (seconds): 2.2410595417022705\n",
      "------------------------------------\n",
      "Processing current number of iteration : 48\n",
      "Training set:  (721, 8) (721, 1)\n",
      "Testing set:  (309, 8) (309, 1)\n",
      "Duration (seconds): 2.2095627784729004\n",
      "------------------------------------\n",
      "Processing current number of iteration : 49\n",
      "Training set:  (721, 8) (721, 1)\n",
      "Testing set:  (309, 8) (309, 1)\n",
      "Duration (seconds): 2.3715620040893555\n",
      "------------------------------------\n",
      "Processing current number of iteration : 50\n",
      "Training set:  (721, 8) (721, 1)\n",
      "Testing set:  (309, 8) (309, 1)\n",
      "Duration (seconds): 2.315572500228882\n",
      "Finished - 50 times.\n",
      "And the list of mean squared errors : [136.109836223891, 93.30507556292348, 73.49421224857069, 68.14098611907441, 66.59469537989526, 66.25312502066706, 66.6275069695623, 63.42266320732147, 57.35196113838461, 52.18239332335908, 47.75986186741384, 45.98543622354189, 45.5756664700006, 45.12195625142648, 44.88439756438539, 44.63705422829609, 44.44814850269204, 44.36970689833351, 44.24615780171796, 44.407969961027206, 44.36670836441252, 44.33389733981776, 44.4592321406338, 44.50380765503953, 44.663831682961, 44.795287487561374, 44.97216296966732, 45.09284183910764, 45.28519932691415, 45.51398717053295, 45.48435828754443, 45.58213613789136, 45.60741582552937, 45.429748466388396, 45.495688922009364, 45.54590789888896, 45.65523103658499, 45.62737016640407, 45.65871241070126, 45.66558773846191, 45.77551490437178, 45.77916236120619, 45.705289025908264, 45.77349588876051, 45.60381326329059, 45.542013974095696, 45.33818412803385, 45.191858903309, 45.166410013601094, 45.30750614515599]\n",
      "------------------------------------------------------------------------\n",
      "The mean and the standard deviation of the mean squared errors are: 51.08 and 15.55, respectively\n"
     ]
    }
   ],
   "source": [
    "max_iteration = 50\n",
    "epochs = 100\n",
    "verbose = 0\n",
    "\n",
    "# Get the compiled model\n",
    "model = build_model_with_one_hidden_layer(num_of_features=num_of_features)\n",
    "\n",
    "mean_mse, std_mse = get_mean_and_std_of_mse(df_predictors_norm, \n",
    "                                            df_target, \n",
    "                                            model, \n",
    "                                            max_iteration=max_iteration, \n",
    "                                            epochs=epochs, verbose=verbose)"
   ]
  },
  {
   "cell_type": "markdown",
   "metadata": {},
   "source": [
    "## Report the mean and the standard deviation of the mean squared errors"
   ]
  },
  {
   "cell_type": "code",
   "execution_count": 30,
   "metadata": {
    "ExecuteTime": {
     "end_time": "2019-12-21T21:48:04.135939Z",
     "start_time": "2019-12-21T21:48:04.128306Z"
    }
   },
   "outputs": [
    {
     "data": {
      "text/html": [
       "<div>\n",
       "<style scoped>\n",
       "    .dataframe tbody tr th:only-of-type {\n",
       "        vertical-align: middle;\n",
       "    }\n",
       "\n",
       "    .dataframe tbody tr th {\n",
       "        vertical-align: top;\n",
       "    }\n",
       "\n",
       "    .dataframe thead th {\n",
       "        text-align: right;\n",
       "    }\n",
       "</style>\n",
       "<table border=\"1\" class=\"dataframe\">\n",
       "  <thead>\n",
       "    <tr style=\"text-align: right;\">\n",
       "      <th></th>\n",
       "      <th>Experiment</th>\n",
       "      <th>Mean MSE</th>\n",
       "      <th>Std Deviation MSE</th>\n",
       "    </tr>\n",
       "  </thead>\n",
       "  <tbody>\n",
       "    <tr>\n",
       "      <td>0</td>\n",
       "      <td>Normalized-1 Hidden Layers(100 epochs)</td>\n",
       "      <td>51.08</td>\n",
       "      <td>15.55</td>\n",
       "    </tr>\n",
       "  </tbody>\n",
       "</table>\n",
       "</div>"
      ],
      "text/plain": [
       "                               Experiment  Mean MSE  Std Deviation MSE\n",
       "0  Normalized-1 Hidden Layers(100 epochs)     51.08              15.55"
      ]
     },
     "execution_count": 30,
     "metadata": {},
     "output_type": "execute_result"
    }
   ],
   "source": [
    "name_of_experiment = \"Normalized-1 Hidden Layers(100 epochs)\"\n",
    "\n",
    "# Report the mean and the standard deviation of the mean squared errors\n",
    "df_result_baseline = get_report(name_of_experiment, mean_mse, std_mse)\n",
    "df_result_baseline"
   ]
  },
  {
   "cell_type": "code",
   "execution_count": 31,
   "metadata": {
    "ExecuteTime": {
     "end_time": "2019-12-21T21:48:04.159812Z",
     "start_time": "2019-12-21T21:48:04.137559Z"
    }
   },
   "outputs": [
    {
     "data": {
      "text/html": [
       "<div>\n",
       "<style scoped>\n",
       "    .dataframe tbody tr th:only-of-type {\n",
       "        vertical-align: middle;\n",
       "    }\n",
       "\n",
       "    .dataframe tbody tr th {\n",
       "        vertical-align: top;\n",
       "    }\n",
       "\n",
       "    .dataframe thead th {\n",
       "        text-align: right;\n",
       "    }\n",
       "</style>\n",
       "<table border=\"1\" class=\"dataframe\">\n",
       "  <thead>\n",
       "    <tr style=\"text-align: right;\">\n",
       "      <th></th>\n",
       "      <th>Experiment</th>\n",
       "      <th>Mean MSE</th>\n",
       "      <th>Std Deviation MSE</th>\n",
       "    </tr>\n",
       "  </thead>\n",
       "  <tbody>\n",
       "    <tr>\n",
       "      <td>0</td>\n",
       "      <td>Baseline-Raw (50 epochs)</td>\n",
       "      <td>69.31</td>\n",
       "      <td>27.31</td>\n",
       "    </tr>\n",
       "    <tr>\n",
       "      <td>1</td>\n",
       "      <td>Normalized-1 Hidden Layers(50 epochs)</td>\n",
       "      <td>50.02</td>\n",
       "      <td>52.77</td>\n",
       "    </tr>\n",
       "    <tr>\n",
       "      <td>2</td>\n",
       "      <td>Normalized-1 Hidden Layers(100 epochs)</td>\n",
       "      <td>51.08</td>\n",
       "      <td>15.55</td>\n",
       "    </tr>\n",
       "  </tbody>\n",
       "</table>\n",
       "</div>"
      ],
      "text/plain": [
       "                               Experiment  Mean MSE  Std Deviation MSE\n",
       "0                Baseline-Raw (50 epochs)     69.31              27.31\n",
       "1   Normalized-1 Hidden Layers(50 epochs)     50.02              52.77\n",
       "2  Normalized-1 Hidden Layers(100 epochs)     51.08              15.55"
      ]
     },
     "execution_count": 31,
     "metadata": {},
     "output_type": "execute_result"
    }
   ],
   "source": [
    "# Concat baseline dataframe into result\n",
    "df_mse_and_rmse = pd.concat([df_mse_and_rmse, df_result_baseline], axis=0)\n",
    "\n",
    "# Review the result dataframe\n",
    "df_mse_and_rmse.reset_index(drop=True)"
   ]
  },
  {
   "cell_type": "markdown",
   "metadata": {},
   "source": [
    "# D. Increase the number of hidden layers\n",
    "\n",
    "Repeat part B but use a neural network with the following instead:\n",
    "\n",
    "- Three hidden layers, each of 10 nodes and ReLU activation function.\n",
    "\n",
    "How does the mean of the mean squared errors compare to that from Step B?"
   ]
  },
  {
   "cell_type": "markdown",
   "metadata": {},
   "source": [
    "## Building and Training with the model after normalizing the data with 50 epochs"
   ]
  },
  {
   "cell_type": "code",
   "execution_count": 32,
   "metadata": {
    "ExecuteTime": {
     "end_time": "2019-12-21T21:49:09.251685Z",
     "start_time": "2019-12-21T21:48:04.162236Z"
    },
    "scrolled": true
   },
   "outputs": [
    {
     "name": "stdout",
     "output_type": "stream",
     "text": [
      "------------------------------------\n",
      "Processing current number of iteration : 1\n",
      "Training set:  (721, 8) (721, 1)\n",
      "Testing set:  (309, 8) (309, 1)\n",
      "Duration (seconds): 2.1297969818115234\n",
      "------------------------------------\n",
      "Processing current number of iteration : 2\n",
      "Training set:  (721, 8) (721, 1)\n",
      "Testing set:  (309, 8) (309, 1)\n",
      "Duration (seconds): 1.3662385940551758\n",
      "------------------------------------\n",
      "Processing current number of iteration : 3\n",
      "Training set:  (721, 8) (721, 1)\n",
      "Testing set:  (309, 8) (309, 1)\n",
      "Duration (seconds): 1.3132169246673584\n",
      "------------------------------------\n",
      "Processing current number of iteration : 4\n",
      "Training set:  (721, 8) (721, 1)\n",
      "Testing set:  (309, 8) (309, 1)\n",
      "Duration (seconds): 1.2721171379089355\n",
      "------------------------------------\n",
      "Processing current number of iteration : 5\n",
      "Training set:  (721, 8) (721, 1)\n",
      "Testing set:  (309, 8) (309, 1)\n",
      "Duration (seconds): 1.3037443161010742\n",
      "------------------------------------\n",
      "Processing current number of iteration : 6\n",
      "Training set:  (721, 8) (721, 1)\n",
      "Testing set:  (309, 8) (309, 1)\n",
      "Duration (seconds): 1.1732661724090576\n",
      "------------------------------------\n",
      "Processing current number of iteration : 7\n",
      "Training set:  (721, 8) (721, 1)\n",
      "Testing set:  (309, 8) (309, 1)\n",
      "Duration (seconds): 1.2218191623687744\n",
      "------------------------------------\n",
      "Processing current number of iteration : 8\n",
      "Training set:  (721, 8) (721, 1)\n",
      "Testing set:  (309, 8) (309, 1)\n",
      "Duration (seconds): 1.1375513076782227\n",
      "------------------------------------\n",
      "Processing current number of iteration : 9\n",
      "Training set:  (721, 8) (721, 1)\n",
      "Testing set:  (309, 8) (309, 1)\n",
      "Duration (seconds): 1.2092714309692383\n",
      "------------------------------------\n",
      "Processing current number of iteration : 10\n",
      "Training set:  (721, 8) (721, 1)\n",
      "Testing set:  (309, 8) (309, 1)\n",
      "Duration (seconds): 1.2004790306091309\n",
      "------------------------------------\n",
      "Processing current number of iteration : 11\n",
      "Training set:  (721, 8) (721, 1)\n",
      "Testing set:  (309, 8) (309, 1)\n",
      "Duration (seconds): 1.1927244663238525\n",
      "------------------------------------\n",
      "Processing current number of iteration : 12\n",
      "Training set:  (721, 8) (721, 1)\n",
      "Testing set:  (309, 8) (309, 1)\n",
      "Duration (seconds): 1.259918451309204\n",
      "------------------------------------\n",
      "Processing current number of iteration : 13\n",
      "Training set:  (721, 8) (721, 1)\n",
      "Testing set:  (309, 8) (309, 1)\n",
      "Duration (seconds): 1.2882156372070312\n",
      "------------------------------------\n",
      "Processing current number of iteration : 14\n",
      "Training set:  (721, 8) (721, 1)\n",
      "Testing set:  (309, 8) (309, 1)\n",
      "Duration (seconds): 1.2815134525299072\n",
      "------------------------------------\n",
      "Processing current number of iteration : 15\n",
      "Training set:  (721, 8) (721, 1)\n",
      "Testing set:  (309, 8) (309, 1)\n",
      "Duration (seconds): 1.19472074508667\n",
      "------------------------------------\n",
      "Processing current number of iteration : 16\n",
      "Training set:  (721, 8) (721, 1)\n",
      "Testing set:  (309, 8) (309, 1)\n",
      "Duration (seconds): 1.2108604907989502\n",
      "------------------------------------\n",
      "Processing current number of iteration : 17\n",
      "Training set:  (721, 8) (721, 1)\n",
      "Testing set:  (309, 8) (309, 1)\n",
      "Duration (seconds): 1.2149114608764648\n",
      "------------------------------------\n",
      "Processing current number of iteration : 18\n",
      "Training set:  (721, 8) (721, 1)\n",
      "Testing set:  (309, 8) (309, 1)\n",
      "Duration (seconds): 1.2486345767974854\n",
      "------------------------------------\n",
      "Processing current number of iteration : 19\n",
      "Training set:  (721, 8) (721, 1)\n",
      "Testing set:  (309, 8) (309, 1)\n",
      "Duration (seconds): 1.2633745670318604\n",
      "------------------------------------\n",
      "Processing current number of iteration : 20\n",
      "Training set:  (721, 8) (721, 1)\n",
      "Testing set:  (309, 8) (309, 1)\n",
      "Duration (seconds): 1.2792720794677734\n",
      "------------------------------------\n",
      "Processing current number of iteration : 21\n",
      "Training set:  (721, 8) (721, 1)\n",
      "Testing set:  (309, 8) (309, 1)\n",
      "Duration (seconds): 1.319260597229004\n",
      "------------------------------------\n",
      "Processing current number of iteration : 22\n",
      "Training set:  (721, 8) (721, 1)\n",
      "Testing set:  (309, 8) (309, 1)\n",
      "Duration (seconds): 1.3149738311767578\n",
      "------------------------------------\n",
      "Processing current number of iteration : 23\n",
      "Training set:  (721, 8) (721, 1)\n",
      "Testing set:  (309, 8) (309, 1)\n",
      "Duration (seconds): 1.3573133945465088\n",
      "------------------------------------\n",
      "Processing current number of iteration : 24\n",
      "Training set:  (721, 8) (721, 1)\n",
      "Testing set:  (309, 8) (309, 1)\n",
      "Duration (seconds): 1.3803110122680664\n",
      "------------------------------------\n",
      "Processing current number of iteration : 25\n",
      "Training set:  (721, 8) (721, 1)\n",
      "Testing set:  (309, 8) (309, 1)\n",
      "Duration (seconds): 1.4051320552825928\n",
      "------------------------------------\n",
      "Processing current number of iteration : 26\n",
      "Training set:  (721, 8) (721, 1)\n",
      "Testing set:  (309, 8) (309, 1)\n",
      "Duration (seconds): 1.3999512195587158\n",
      "------------------------------------\n",
      "Processing current number of iteration : 27\n",
      "Training set:  (721, 8) (721, 1)\n",
      "Testing set:  (309, 8) (309, 1)\n",
      "Duration (seconds): 1.3577306270599365\n",
      "------------------------------------\n",
      "Processing current number of iteration : 28\n",
      "Training set:  (721, 8) (721, 1)\n",
      "Testing set:  (309, 8) (309, 1)\n",
      "Duration (seconds): 1.3268225193023682\n",
      "------------------------------------\n",
      "Processing current number of iteration : 29\n",
      "Training set:  (721, 8) (721, 1)\n",
      "Testing set:  (309, 8) (309, 1)\n",
      "Duration (seconds): 1.2276051044464111\n",
      "------------------------------------\n",
      "Processing current number of iteration : 30\n",
      "Training set:  (721, 8) (721, 1)\n",
      "Testing set:  (309, 8) (309, 1)\n",
      "Duration (seconds): 1.2563886642456055\n",
      "------------------------------------\n",
      "Processing current number of iteration : 31\n",
      "Training set:  (721, 8) (721, 1)\n",
      "Testing set:  (309, 8) (309, 1)\n",
      "Duration (seconds): 1.2130372524261475\n",
      "------------------------------------\n",
      "Processing current number of iteration : 32\n",
      "Training set:  (721, 8) (721, 1)\n",
      "Testing set:  (309, 8) (309, 1)\n",
      "Duration (seconds): 1.2027552127838135\n",
      "------------------------------------\n",
      "Processing current number of iteration : 33\n",
      "Training set:  (721, 8) (721, 1)\n",
      "Testing set:  (309, 8) (309, 1)\n",
      "Duration (seconds): 1.012943983078003\n",
      "------------------------------------\n",
      "Processing current number of iteration : 34\n",
      "Training set:  (721, 8) (721, 1)\n",
      "Testing set:  (309, 8) (309, 1)\n",
      "Duration (seconds): 1.3182737827301025\n",
      "------------------------------------\n",
      "Processing current number of iteration : 35\n",
      "Training set:  (721, 8) (721, 1)\n",
      "Testing set:  (309, 8) (309, 1)\n",
      "Duration (seconds): 1.2774784564971924\n",
      "------------------------------------\n",
      "Processing current number of iteration : 36\n",
      "Training set:  (721, 8) (721, 1)\n",
      "Testing set:  (309, 8) (309, 1)\n",
      "Duration (seconds): 1.2138426303863525\n",
      "------------------------------------\n",
      "Processing current number of iteration : 37\n",
      "Training set:  (721, 8) (721, 1)\n",
      "Testing set:  (309, 8) (309, 1)\n",
      "Duration (seconds): 1.2886834144592285\n",
      "------------------------------------\n",
      "Processing current number of iteration : 38\n",
      "Training set:  (721, 8) (721, 1)\n",
      "Testing set:  (309, 8) (309, 1)\n",
      "Duration (seconds): 1.3524224758148193\n",
      "------------------------------------\n",
      "Processing current number of iteration : 39\n",
      "Training set:  (721, 8) (721, 1)\n",
      "Testing set:  (309, 8) (309, 1)\n",
      "Duration (seconds): 1.3320698738098145\n",
      "------------------------------------\n",
      "Processing current number of iteration : 40\n",
      "Training set:  (721, 8) (721, 1)\n",
      "Testing set:  (309, 8) (309, 1)\n",
      "Duration (seconds): 1.405043363571167\n",
      "------------------------------------\n",
      "Processing current number of iteration : 41\n",
      "Training set:  (721, 8) (721, 1)\n",
      "Testing set:  (309, 8) (309, 1)\n",
      "Duration (seconds): 1.32155179977417\n",
      "------------------------------------\n",
      "Processing current number of iteration : 42\n",
      "Training set:  (721, 8) (721, 1)\n",
      "Testing set:  (309, 8) (309, 1)\n",
      "Duration (seconds): 1.3143680095672607\n",
      "------------------------------------\n",
      "Processing current number of iteration : 43\n",
      "Training set:  (721, 8) (721, 1)\n",
      "Testing set:  (309, 8) (309, 1)\n",
      "Duration (seconds): 1.3487548828125\n",
      "------------------------------------\n",
      "Processing current number of iteration : 44\n",
      "Training set:  (721, 8) (721, 1)\n",
      "Testing set:  (309, 8) (309, 1)\n",
      "Duration (seconds): 1.3239614963531494\n",
      "------------------------------------\n",
      "Processing current number of iteration : 45\n",
      "Training set:  (721, 8) (721, 1)\n",
      "Testing set:  (309, 8) (309, 1)\n"
     ]
    },
    {
     "name": "stdout",
     "output_type": "stream",
     "text": [
      "Duration (seconds): 1.3130390644073486\n",
      "------------------------------------\n",
      "Processing current number of iteration : 46\n",
      "Training set:  (721, 8) (721, 1)\n",
      "Testing set:  (309, 8) (309, 1)\n",
      "Duration (seconds): 1.349304437637329\n",
      "------------------------------------\n",
      "Processing current number of iteration : 47\n",
      "Training set:  (721, 8) (721, 1)\n",
      "Testing set:  (309, 8) (309, 1)\n",
      "Duration (seconds): 1.3571248054504395\n",
      "------------------------------------\n",
      "Processing current number of iteration : 48\n",
      "Training set:  (721, 8) (721, 1)\n",
      "Testing set:  (309, 8) (309, 1)\n",
      "Duration (seconds): 1.3486082553863525\n",
      "------------------------------------\n",
      "Processing current number of iteration : 49\n",
      "Training set:  (721, 8) (721, 1)\n",
      "Testing set:  (309, 8) (309, 1)\n",
      "Duration (seconds): 1.288728952407837\n",
      "------------------------------------\n",
      "Processing current number of iteration : 50\n",
      "Training set:  (721, 8) (721, 1)\n",
      "Testing set:  (309, 8) (309, 1)\n",
      "Duration (seconds): 1.3103587627410889\n",
      "Finished - 50 times.\n",
      "And the list of mean squared errors : [112.19681082039239, 63.35699168175679, 45.08576790496408, 41.69713071878742, 38.119412319427845, 36.082928428585795, 35.06755029752973, 33.125001246028695, 32.205729677853235, 31.752411175997462, 31.57802873262458, 31.152387471674643, 31.481078390267054, 30.710207403152733, 31.059873475093713, 30.772106440710118, 30.375973704188393, 30.67514262506237, 29.789865181147306, 30.08316521119701, 31.56025810340527, 30.480172887067642, 30.281687529197335, 29.892075140920184, 30.086988216422075, 29.7803379863824, 30.293573566937965, 30.3963370578156, 30.222311804944965, 31.823939416965263, 31.127098558433097, 30.38402144953489, 31.387297151266697, 30.77275539166088, 31.673216489721526, 31.480881962552644, 30.79379408501493, 31.35293970813239, 31.435622961886335, 31.362172355635078, 31.54670590346419, 31.45135954370412, 32.64546641382563, 31.121276201445024, 31.244544618431586, 30.978825205552486, 31.477818859254366, 32.905400875029784, 31.119248774545152, 30.919097595991474]\n",
      "------------------------------------------------------------------------\n",
      "The mean and the standard deviation of the mean squared errors are: 34.17 and 12.3, respectively\n"
     ]
    }
   ],
   "source": [
    "max_iteration = 50\n",
    "epochs = 50\n",
    "verbose = 0\n",
    "\n",
    "# Get the compiled model\n",
    "model = build_model_with_three_hidden_layers(num_of_features=num_of_features)\n",
    "\n",
    "mean_mse, std_mse = get_mean_and_std_of_mse(df_predictors_norm, \n",
    "                                            df_target, \n",
    "                                            model, \n",
    "                                            max_iteration=max_iteration, \n",
    "                                            epochs=epochs, \n",
    "                                            verbose=verbose)"
   ]
  },
  {
   "cell_type": "markdown",
   "metadata": {},
   "source": [
    "## Report the mean and the standard deviation of the mean squared errors"
   ]
  },
  {
   "cell_type": "code",
   "execution_count": 33,
   "metadata": {
    "ExecuteTime": {
     "end_time": "2019-12-21T21:49:09.266387Z",
     "start_time": "2019-12-21T21:49:09.254983Z"
    }
   },
   "outputs": [
    {
     "data": {
      "text/html": [
       "<div>\n",
       "<style scoped>\n",
       "    .dataframe tbody tr th:only-of-type {\n",
       "        vertical-align: middle;\n",
       "    }\n",
       "\n",
       "    .dataframe tbody tr th {\n",
       "        vertical-align: top;\n",
       "    }\n",
       "\n",
       "    .dataframe thead th {\n",
       "        text-align: right;\n",
       "    }\n",
       "</style>\n",
       "<table border=\"1\" class=\"dataframe\">\n",
       "  <thead>\n",
       "    <tr style=\"text-align: right;\">\n",
       "      <th></th>\n",
       "      <th>Experiment</th>\n",
       "      <th>Mean MSE</th>\n",
       "      <th>Std Deviation MSE</th>\n",
       "    </tr>\n",
       "  </thead>\n",
       "  <tbody>\n",
       "    <tr>\n",
       "      <td>0</td>\n",
       "      <td>Normalized-3 Hidden Layers(50 epochs)</td>\n",
       "      <td>34.17</td>\n",
       "      <td>12.3</td>\n",
       "    </tr>\n",
       "  </tbody>\n",
       "</table>\n",
       "</div>"
      ],
      "text/plain": [
       "                              Experiment  Mean MSE  Std Deviation MSE\n",
       "0  Normalized-3 Hidden Layers(50 epochs)     34.17               12.3"
      ]
     },
     "execution_count": 33,
     "metadata": {},
     "output_type": "execute_result"
    }
   ],
   "source": [
    "name_of_experiment = \"Normalized-3 Hidden Layers(50 epochs)\"\n",
    "\n",
    "# Report the mean and the standard deviation of the mean squared errors\n",
    "df_result_baseline = get_report(name_of_experiment, mean_mse, std_mse)\n",
    "df_result_baseline"
   ]
  },
  {
   "cell_type": "code",
   "execution_count": 34,
   "metadata": {
    "ExecuteTime": {
     "end_time": "2019-12-21T21:49:09.289698Z",
     "start_time": "2019-12-21T21:49:09.268784Z"
    }
   },
   "outputs": [
    {
     "data": {
      "text/html": [
       "<div>\n",
       "<style scoped>\n",
       "    .dataframe tbody tr th:only-of-type {\n",
       "        vertical-align: middle;\n",
       "    }\n",
       "\n",
       "    .dataframe tbody tr th {\n",
       "        vertical-align: top;\n",
       "    }\n",
       "\n",
       "    .dataframe thead th {\n",
       "        text-align: right;\n",
       "    }\n",
       "</style>\n",
       "<table border=\"1\" class=\"dataframe\">\n",
       "  <thead>\n",
       "    <tr style=\"text-align: right;\">\n",
       "      <th></th>\n",
       "      <th>Experiment</th>\n",
       "      <th>Mean MSE</th>\n",
       "      <th>Std Deviation MSE</th>\n",
       "    </tr>\n",
       "  </thead>\n",
       "  <tbody>\n",
       "    <tr>\n",
       "      <td>0</td>\n",
       "      <td>Baseline-Raw (50 epochs)</td>\n",
       "      <td>69.31</td>\n",
       "      <td>27.31</td>\n",
       "    </tr>\n",
       "    <tr>\n",
       "      <td>1</td>\n",
       "      <td>Normalized-1 Hidden Layers(50 epochs)</td>\n",
       "      <td>50.02</td>\n",
       "      <td>52.77</td>\n",
       "    </tr>\n",
       "    <tr>\n",
       "      <td>2</td>\n",
       "      <td>Normalized-1 Hidden Layers(100 epochs)</td>\n",
       "      <td>51.08</td>\n",
       "      <td>15.55</td>\n",
       "    </tr>\n",
       "    <tr>\n",
       "      <td>3</td>\n",
       "      <td>Normalized-3 Hidden Layers(50 epochs)</td>\n",
       "      <td>34.17</td>\n",
       "      <td>12.30</td>\n",
       "    </tr>\n",
       "  </tbody>\n",
       "</table>\n",
       "</div>"
      ],
      "text/plain": [
       "                               Experiment  Mean MSE  Std Deviation MSE\n",
       "0                Baseline-Raw (50 epochs)     69.31              27.31\n",
       "1   Normalized-1 Hidden Layers(50 epochs)     50.02              52.77\n",
       "2  Normalized-1 Hidden Layers(100 epochs)     51.08              15.55\n",
       "3   Normalized-3 Hidden Layers(50 epochs)     34.17              12.30"
      ]
     },
     "execution_count": 34,
     "metadata": {},
     "output_type": "execute_result"
    }
   ],
   "source": [
    "# Concat baseline dataframe into result\n",
    "df_mse_and_rmse = pd.concat([df_mse_and_rmse, df_result_baseline], axis=0)\n",
    "\n",
    "# Review the result dataframe\n",
    "df_mse_and_rmse.reset_index(drop=True)"
   ]
  },
  {
   "cell_type": "markdown",
   "metadata": {},
   "source": [
    "# Discussion"
   ]
  },
  {
   "cell_type": "markdown",
   "metadata": {},
   "source": [
    "As you see, the mean squared error (MSE) tells us how close a regression model is to our testing set. And the standard deviation of residuals is used to estimate the disagreement between a set of data and a linear regression model.\n",
    "\n",
    "Thus, according to the mean squared error, the smaller score, the closer we are finding the regression line of best fit.\n",
    "\n",
    "Indeed, the **model (D-Normalized-3 Hidden Layers(50 epochs))**, which is trained with three hidden layers, each of 10 nodes and ReLU activation function, is the best one. Because its mean of the mean squared errors is **34.17**. Moreover, its error is lower than about *16* and **17** when comparing with the trained model applying one hidden layer with *50* epochs and **100** epochs. \n",
    "\n",
    "Also, when comparing to mean of the MSEs of baseline model, the MSE of **model (D)** is lower, about **35**.\n",
    "\n",
    "However, it is interesting that the mean of the MSEs of baseline model **(B-Normalized-1 Hidden Layers(50 epochs))** is lower about **1** than the mean the MSEs of **model (C-Normalized-1 Hidden Layers(100 epochs))** which is trained by the normalized data and the same configuration of model, but model (C) did 100 epochs.\n",
    "\n",
    "In conclusion, in order to get the better result, we could apply several techniques to tune the model such as normalizing the input data, improving the number of epochs or the number of hidden layers."
   ]
  }
 ],
 "metadata": {
  "kernelspec": {
   "display_name": "Python 3",
   "language": "python",
   "name": "python3"
  },
  "language_info": {
   "codemirror_mode": {
    "name": "ipython",
    "version": 3
   },
   "file_extension": ".py",
   "mimetype": "text/x-python",
   "name": "python",
   "nbconvert_exporter": "python",
   "pygments_lexer": "ipython3",
   "version": "3.6.9"
  },
  "toc": {
   "base_numbering": 1,
   "nav_menu": {},
   "number_sections": true,
   "sideBar": true,
   "skip_h1_title": false,
   "title_cell": "Table of Contents",
   "title_sidebar": "Contents",
   "toc_cell": false,
   "toc_position": {
    "height": "calc(100% - 180px)",
    "left": "10px",
    "top": "150px",
    "width": "265.5px"
   },
   "toc_section_display": true,
   "toc_window_display": true
  },
  "varInspector": {
   "cols": {
    "lenName": 16,
    "lenType": 16,
    "lenVar": 40
   },
   "kernels_config": {
    "python": {
     "delete_cmd_postfix": "",
     "delete_cmd_prefix": "del ",
     "library": "var_list.py",
     "varRefreshCmd": "print(var_dic_list())"
    },
    "r": {
     "delete_cmd_postfix": ") ",
     "delete_cmd_prefix": "rm(",
     "library": "var_list.r",
     "varRefreshCmd": "cat(var_dic_list()) "
    }
   },
   "types_to_exclude": [
    "module",
    "function",
    "builtin_function_or_method",
    "instance",
    "_Feature"
   ],
   "window_display": false
  }
 },
 "nbformat": 4,
 "nbformat_minor": 2
}
